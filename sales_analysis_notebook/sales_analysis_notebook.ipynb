{
 "cells": [
  {
   "cell_type": "code",
   "execution_count": 1,
   "id": "cdb33603",
   "metadata": {},
   "outputs": [],
   "source": [
    "import numpy as np\n",
    "import pandas as pd\n",
    "import matplotlib.pyplot as plt\n",
    "import seaborn as sns"
   ]
  },
  {
   "cell_type": "code",
   "execution_count": 3,
   "id": "b9a29553",
   "metadata": {},
   "outputs": [
    {
     "name": "stdout",
     "output_type": "stream",
     "text": [
      "  Class  Region Month  Units_sold Unit_price\n",
      "0    A     east   Jan       120.0         15\n",
      "1     B    West   JAN        95.0         20\n",
      "2     a  North   Feb         80.0         15\n",
      "3     C    east     2       110.0         10\n",
      "4  None   south   Mar        75.0         12\n",
      "5     B    None   Mar         NaN         18\n",
      "6     A    west   Apr        90.0       None\n",
      "7    B     EAST   APR       100.0         19\n",
      "8     c  south   None        85.0         11\n",
      "9     A   north   Apr         NaN        NaN\n",
      "<class 'pandas.core.frame.DataFrame'>\n",
      "RangeIndex: 10 entries, 0 to 9\n",
      "Data columns (total 5 columns):\n",
      " #   Column      Non-Null Count  Dtype  \n",
      "---  ------      --------------  -----  \n",
      " 0   Class       9 non-null      object \n",
      " 1   Region      9 non-null      object \n",
      " 2   Month       9 non-null      object \n",
      " 3   Units_sold  8 non-null      float64\n",
      " 4   Unit_price  8 non-null      object \n",
      "dtypes: float64(1), object(4)\n",
      "memory usage: 532.0+ bytes\n",
      "None\n",
      "       Units_sold\n",
      "count        8.00\n",
      "mean        94.38\n",
      "std         15.22\n",
      "min         75.00\n",
      "25%         83.75\n",
      "50%         92.50\n",
      "75%        102.50\n",
      "max        120.00\n"
     ]
    }
   ],
   "source": [
    "Products = pd.DataFrame({\n",
    "    \"Class\":       [\" A \", \"B\", \"a\", \"C\", None, \"B\", \"A\", \"B \", \"c\", \"A\"],\n",
    "    \"Region\":      [\"east\", \" West\", \"North \", \"east\", \"south\", None, \"west\", \" EAST\", \"south \", \"north\"],\n",
    "    \"Month\":       [\"Jan\", \"JAN\", \"Feb \", \"2\", \"Mar\", \"Mar\", \"Apr\", \"APR\", None, \"Apr\"],\n",
    "    \"Units_sold\":  [120, 95, 80, 110, 75, np.nan, 90, 100, 85, np.nan],\n",
    "    \"Unit_price\":  [15, 20, \"15\", 10, 12, 18, None, \"19\", 11, np.nan],\n",
    "    # Intentionally NOT setting Revenue; we’ll compute after cleaning\n",
    "})\n",
    "\n",
    "print(Products)\n",
    "print(Products.info())\n",
    "print(Products.describe().round(2))"
   ]
  },
  {
   "cell_type": "code",
   "execution_count": 4,
   "id": "5382863b",
   "metadata": {},
   "outputs": [
    {
     "name": "stdout",
     "output_type": "stream",
     "text": [
      "  Class Region Month\n",
      "0     A   East   Jan\n",
      "1     B   West   Jan\n",
      "2     A  North   Feb\n",
      "3     C   East   Feb\n",
      "4  <NA>  South   Mar\n",
      "5     B   <NA>   Mar\n",
      "6     A   West   Apr\n",
      "7     B   East   Apr\n",
      "8     C  South   NaN\n",
      "9     A  North   Apr\n"
     ]
    }
   ],
   "source": [
    "def normalize_month(x):\n",
    "    if pd.isna(x):\n",
    "        return np.nan\n",
    "    s = str(x).strip().lower()\n",
    "    m = {\n",
    "        \"jan\":\"Jan\",\"1\":\"Jan\",\"01\":\"Jan\",\n",
    "        \"feb\":\"Feb\",\"2\":\"Feb\",\"02\":\"Feb\",\n",
    "        \"mar\":\"Mar\",\"3\":\"Mar\",\"03\":\"Mar\",\n",
    "        \"apr\":\"Apr\",\"4\":\"Apr\",\"04\":\"Apr\",\n",
    "        \"may\":\"May\",\"5\":\"May\",\"05\":\"May\",\n",
    "        \"jun\":\"Jun\",\"6\":\"Jun\",\"06\":\"Jun\",\n",
    "        \"jul\":\"Jul\",\"7\":\"Jul\",\"07\":\"Jul\",\n",
    "        \"aug\":\"Aug\",\"8\":\"Aug\",\"08\":\"Aug\",\n",
    "        \"sep\":\"Sep\",\"9\":\"Sep\",\"09\":\"Sep\",\n",
    "        \"oct\":\"Oct\",\"10\":\"Oct\",\n",
    "        \"nov\":\"Nov\",\"11\":\"Nov\",\n",
    "        \"dec\":\"Dec\",\"12\":\"Dec\"\n",
    "    } # All kinds of possible different entries for different months will be like: Jan,Feb,...\n",
    "    return m.get(s, np.nan)\n",
    "\n",
    "Products[\"Class\"] = Products[\"Class\"].astype(\"string\").str.strip().str.upper()\n",
    "Products[\"Region\"] = Products[\"Region\"].astype(\"string\").str.strip().str.title()\n",
    "Products[\"Month\"] = Products[\"Month\"].apply(normalize_month) \n",
    "# we added a function to our data cleaning process with .apply()\n",
    "\n",
    "print(Products[[\"Class\", \"Region\", \"Month\"]])"
   ]
  },
  {
   "cell_type": "code",
   "execution_count": 5,
   "id": "954f34cf",
   "metadata": {},
   "outputs": [
    {
     "name": "stdout",
     "output_type": "stream",
     "text": [
      "<class 'pandas.core.frame.DataFrame'>\n",
      "RangeIndex: 10 entries, 0 to 9\n",
      "Data columns (total 5 columns):\n",
      " #   Column      Non-Null Count  Dtype  \n",
      "---  ------      --------------  -----  \n",
      " 0   Class       9 non-null      string \n",
      " 1   Region      9 non-null      string \n",
      " 2   Month       9 non-null      object \n",
      " 3   Units_sold  8 non-null      float64\n",
      " 4   Unit_price  8 non-null      float64\n",
      "dtypes: float64(2), object(1), string(2)\n",
      "memory usage: 532.0+ bytes\n"
     ]
    }
   ],
   "source": [
    "Products[\"Units_sold\"] = pd.to_numeric(Products[\"Units_sold\"], errors='coerce')\n",
    "Products['Unit_price'] = pd.to_numeric(Products[\"Unit_price\"], errors='coerce')\n",
    "Products.info()"
   ]
  },
  {
   "cell_type": "code",
   "execution_count": 6,
   "id": "5af67059",
   "metadata": {},
   "outputs": [
    {
     "name": "stdout",
     "output_type": "stream",
     "text": [
      "  Class Region Month  Units_sold  Unit_price\n",
      "0     A   East   Jan       120.0        15.0\n",
      "1     B   West   Jan        95.0        20.0\n",
      "2     A  North   Feb        80.0        15.0\n",
      "3     C   East   Feb       110.0        10.0\n",
      "4     A   West   Apr        90.0        15.0\n",
      "5     B   East   Apr       100.0        19.0\n",
      "6     A  North   Apr        80.0        15.0\n",
      "\n",
      "Missing after fill:\n",
      "Class         0\n",
      "Region        0\n",
      "Month         0\n",
      "Units_sold    0\n",
      "Unit_price    0\n",
      "dtype: int64\n"
     ]
    }
   ],
   "source": [
    "# Fill unit price\n",
    "Price_by_class = Products.groupby(\"Class\")[\"Unit_price\"].transform(\"median\")\n",
    "Products[\"Unit_price\"] = Products[\"Unit_price\"].fillna(Price_by_class)\n",
    "Products[\"Unit_price\"] = Products[\"Unit_price\"].fillna(Products[\"Units_sold\"].median())\n",
    "\n",
    "# Fill units sold\n",
    "units_by_region = Products.groupby(\"Region\")[\"Units_sold\"].transform(\"median\")\n",
    "Products[\"Units_sold\"] = Products[\"Units_sold\"].fillna(units_by_region)\n",
    "Products[\"Units_sold\"] = Products[\"Units_sold\"].fillna(Products[\"Units_sold\"].median())\n",
    "\n",
    "# Drop rows that still lack key categorical fields\n",
    "Products = Products.dropna(subset=[\"Class\", \"Region\", \"Month\"]).reset_index(drop=True)\n",
    "\n",
    "print(Products)\n",
    "print(\"\\nMissing after fill:\")\n",
    "print(Products.isna().sum())"
   ]
  },
  {
   "cell_type": "code",
   "execution_count": 7,
   "id": "3de417d6",
   "metadata": {},
   "outputs": [
    {
     "name": "stdout",
     "output_type": "stream",
     "text": [
      "  Class Region Month  Units_sold  Unit_price  Revenue\n",
      "0     A   East   Jan       120.0        15.0   1800.0\n",
      "1     B   West   Jan        95.0        20.0   1900.0\n",
      "2     A  North   Feb        80.0        15.0   1200.0\n",
      "3     C   East   Feb       110.0        10.0   1100.0\n",
      "4     A   West   Apr        90.0        15.0   1350.0\n"
     ]
    }
   ],
   "source": [
    "Products[\"Revenue\"] = (Products[\"Units_sold\"] * Products[\"Unit_price\"]).round(2)\n",
    "print(Products.head())\n",
    "# I made a new column, and named it Revenue and multiplied Units_sold with Unit_price to \n",
    "#calculate the Revenue value for each column."
   ]
  },
  {
   "cell_type": "code",
   "execution_count": 8,
   "id": "d279a608",
   "metadata": {},
   "outputs": [
    {
     "name": "stdout",
     "output_type": "stream",
     "text": [
      "   Unit_price  Price_band\n",
      "0        15.0  Affordable\n",
      "1        20.0   Expensive\n",
      "2        15.0  Affordable\n",
      "3        10.0       Cheap\n",
      "4        15.0  Affordable\n",
      "5        19.0   Expensive\n",
      "6        15.0  Affordable\n",
      "Price_band\n",
      "Affordable    4\n",
      "Expensive     2\n",
      "Cheap         1\n",
      "Name: count, dtype: int64\n"
     ]
    }
   ],
   "source": [
    "q1 = Products[\"Unit_price\"].quantile(0.33) # lower quantile\n",
    "q2 = Products[\"Unit_price\"].quantile(0.66) # higher quantile\n",
    "#everythin between is affordable\n",
    "\n",
    "def price_band(u, low, high):\n",
    "    if u < low:\n",
    "        return \"Cheap\"\n",
    "    elif u > high:\n",
    "        return \"Expensive\"\n",
    "    else:\n",
    "        return \"Affordable\"\n",
    "    # I made 3 different price bands.  \n",
    "    \n",
    "Products[\"Price_band\"] = Products[\"Unit_price\"].apply(lambda u: price_band(u, q1, q2))\n",
    "print(Products[[\"Unit_price\", \"Price_band\"]])\n",
    "print(Products[\"Price_band\"].value_counts())"
   ]
  },
  {
   "cell_type": "code",
   "execution_count": 9,
   "id": "9ab53637",
   "metadata": {},
   "outputs": [
    {
     "name": "stdout",
     "output_type": "stream",
     "text": [
      "Region\n",
      "East     4800.0\n",
      "West     3250.0\n",
      "North    2400.0\n",
      "Name: Revenue, dtype: float64\n",
      "Class       A       B       C\n",
      "Month                        \n",
      "Apr    2550.0  1900.0     0.0\n",
      "Feb    1200.0     0.0  1100.0\n",
      "Jan    1800.0  1900.0     0.0\n",
      "Price_band\n",
      "Affordable    4\n",
      "Expensive     2\n",
      "Cheap         1\n",
      "Name: count, dtype: int64\n"
     ]
    }
   ],
   "source": [
    "class SalesAnalyzer:\n",
    "    def __init__(self, df: pd.DataFrame):\n",
    "        self.df = df.copy()\n",
    "\n",
    "    def revenue_by_region(self):\n",
    "        return self.df.groupby(\"Region\")[\"Revenue\"].sum().sort_values(ascending=False)\n",
    "    \n",
    "    def monthly_revenue_by_class(self):\n",
    "        return (self.df.groupby([\"Month\", \"Class\"])[\"Revenue\"].sum().unstack(\"Class\").fillna(0).sort_index())\n",
    "    \n",
    "    def price_band_counts(self):\n",
    "        return self.df[\"Price_band\"].value_counts()\n",
    "    \n",
    "an = SalesAnalyzer(Products)\n",
    "print(an.revenue_by_region())\n",
    "print(an.monthly_revenue_by_class())\n",
    "print(an.price_band_counts())"
   ]
  },
  {
   "cell_type": "code",
   "execution_count": 10,
   "id": "93fad1ff",
   "metadata": {},
   "outputs": [],
   "source": [
    "class SalesVisualizer:\n",
    "    def __init__(self, df):\n",
    "        self.df = df\n",
    "\n",
    "    def plot_revenue_by_region(self):\n",
    "        plt.figure(figsize=(6,4))\n",
    "        sns.barplot(data=self.df, x=\"Region\", y=\"Revenue\", estimator=\"sum\", ci=None)\n",
    "        plt.title(\"Total Revenue by Region\")\n",
    "        plt.xlabel(\"Region\")\n",
    "        plt.ylabel(\"Total Revenue\")\n",
    "        plt.tight_layout()\n",
    "        plt.show()\n",
    "\n",
    "    def plot_monthly_revenue_by_class(self):\n",
    "        plt.figure(figsize=(6,4))\n",
    "        month_order = [\"Jan\",\"Feb\",\"Mar\",\"Apr\",\"May\",\"Jun\",\"Jul\",\"Aug\",\"Sep\",\"Oct\",\"Nov\",\"Dec\"]\n",
    "        order = [m for m in month_order if m in self.df[\"Month\"].unique()]\n",
    "        sns.barplot(\n",
    "            data=self.df, x=\"Month\", y=\"Revenue\", hue=\"Class\",\n",
    "            estimator=\"sum\", ci=None, order=order\n",
    "        )\n",
    "        plt.title(\"Monthly Revenue by Class\")\n",
    "        plt.xlabel(\"Month\")\n",
    "        plt.ylabel(\"Total Revenue\")\n",
    "        plt.legend(title=\"Class\")\n",
    "        plt.tight_layout()\n",
    "        plt.show()\n",
    "\n",
    "    def plot_price_band_counts(self):\n",
    "        plt.figure(figsize=(6,4))\n",
    "        sns.countplot(data=self.df, x=\"Price_band\", palette=\"Set2\")\n",
    "        plt.title(\"Count of Products by Price Band\")\n",
    "        plt.xlabel(\"Price Band\")\n",
    "        plt.ylabel(\"Count\")\n",
    "        plt.tight_layout()\n",
    "        plt.show()"
   ]
  },
  {
   "cell_type": "code",
   "execution_count": 11,
   "id": "8d53aa7b",
   "metadata": {},
   "outputs": [
    {
     "name": "stderr",
     "output_type": "stream",
     "text": [
      "C:\\Users\\Pooria\\AppData\\Local\\Temp\\ipykernel_5112\\736376597.py:18: FutureWarning: \n",
      "\n",
      "The `ci` parameter is deprecated. Use `errorbar=None` for the same effect.\n",
      "\n",
      "  sns.barplot(\n"
     ]
    },
    {
     "data": {
      "image/png": "[encoded data removed]",
      "text/plain": [
       "<Figure size 600x400 with 1 Axes>"
      ]
     },
     "metadata": {},
     "output_type": "display_data"
    },
    {
     "name": "stderr",
     "output_type": "stream",
     "text": [
      "C:\\Users\\Pooria\\AppData\\Local\\Temp\\ipykernel_5112\\736376597.py:7: FutureWarning: \n",
      "\n",
      "The `ci` parameter is deprecated. Use `errorbar=None` for the same effect.\n",
      "\n",
      "  sns.barplot(data=self.df, x=\"Region\", y=\"Revenue\", estimator=\"sum\", ci=None)\n"
     ]
    },
    {
     "data": {
      "image/png": "[encoded data removed]",
      "text/plain": [
       "<Figure size 600x400 with 1 Axes>"
      ]
     },
     "metadata": {},
     "output_type": "display_data"
    },
    {
     "name": "stderr",
     "output_type": "stream",
     "text": [
      "C:\\Users\\Pooria\\AppData\\Local\\Temp\\ipykernel_5112\\736376597.py:31: FutureWarning: \n",
      "\n",
      "Passing `palette` without assigning `hue` is deprecated and will be removed in v0.14.0. Assign the `x` variable to `hue` and set `legend=False` for the same effect.\n",
      "\n",
      "  sns.countplot(data=self.df, x=\"Price_band\", palette=\"Set2\")\n"
     ]
    },
    {
     "data": {
      "image/png": "[encoded data removed]",
      "text/plain": [
       "<Figure size 600x400 with 1 Axes>"
      ]
     },
     "metadata": {},
     "output_type": "display_data"
    }
   ],
   "source": [
    "df = Products.copy()\n",
    "visual = SalesVisualizer(df)\n",
    "visual.plot_monthly_revenue_by_class()\n",
    "visual.plot_revenue_by_region()\n",
    "visual.plot_price_band_counts()"
   ]
  }
 ],
 "metadata": {
  "kernelspec": {
   "display_name": "Python 3",
   "language": "python",
   "name": "python3"
  },
  "language_info": {
   "codemirror_mode": {
    "name": "ipython",
    "version": 3
   },
   "file_extension": ".py",
   "mimetype": "text/x-python",
   "name": "python",
   "nbconvert_exporter": "python",
   "pygments_lexer": "ipython3",
   "version": "3.12.1"
  }
 },
 "nbformat": 4,
 "nbformat_minor": 5
}
