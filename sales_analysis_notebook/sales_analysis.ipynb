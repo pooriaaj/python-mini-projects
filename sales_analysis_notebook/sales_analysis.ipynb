Products = pd.DataFrame({
    "Class":       [" A ", "B", "a", "C", None, "B", "A", "B ", "c", "A"],
    "Region":      ["east", " West", "North ", "east", "south", None, "west", " EAST", "south ", "north"],
    "Month":       ["Jan", "JAN", "Feb ", "2", "Mar", "Mar", "Apr", "APR", None, "Apr"],
    "Units_sold":  [120, 95, 80, 110, 75, np.nan, 90, 100, 85, np.nan],
    "Unit_price":  [15, 20, "15", 10, 12, 18, None, "19", 11, np.nan],
    # Intentionally NOT setting Revenue; we’ll compute after cleaning
})

print(Products)
print("\ninfo():")
print(Products.info())

Products = pd.DataFrame({
    "Class":       [" A ", "B", "a", "C", None, "B", "A", "B ", "c", "A"],
    "Region":      ["east", " West", "North ", "east", "south", None, "west", " EAST", "south ", "north"],
    "Month":       ["Jan", "JAN", "Feb ", "2", "Mar", "Mar", "Apr", "APR", None, "Apr"],
    "Units_sold":  [120, 95, 80, 110, 75, np.nan, 90, 100, 85, np.nan],
    "Unit_price":  [15, 20, "15", 10, 12, 18, None, "19", 11, np.nan],
    # Intentionally NOT setting Revenue; we’ll compute after cleaning
})

print(Products)
print(Products.info())
print(Products.describe().round(2))

def normalize_month(x):
    if pd.isna(x):
        return np.nan
    s = str(x).strip().lower()
    m = {
        "jan":"Jan","1":"Jan","01":"Jan",
        "feb":"Feb","2":"Feb","02":"Feb",
        "mar":"Mar","3":"Mar","03":"Mar",
        "apr":"Apr","4":"Apr","04":"Apr",
        "may":"May","5":"May","05":"May",
        "jun":"Jun","6":"Jun","06":"Jun",
        "jul":"Jul","7":"Jul","07":"Jul",
        "aug":"Aug","8":"Aug","08":"Aug",
        "sep":"Sep","9":"Sep","09":"Sep",
        "oct":"Oct","10":"Oct",
        "nov":"Nov","11":"Nov",
        "dec":"Dec","12":"Dec"
    } # All kinds of possible different entries for different months will be like: Jan,Feb,...
    return m.get(s, np.nan)

Products["Class"] = Products["Class"].astype("string").str.strip().str.upper()
Products["Region"] = Products["Region"].astype("string").str.strip().str.title()
Products["Month"] = Products["Month"].apply(normalize_month) 
# we added a function to our data cleaning process with .apply()

print(Products[["Class", "Region", "Month"]])

Products["Units_sold"] = pd.to_numeric(Products["Units_sold"], errors='coerce')
Products['Unit_price'] = pd.to_numeric(Products["Unit_price"], errors='coerce')
Products.info()


# Fill unit price
Price_by_class = Products.groupby("Class")["Unit_price"].transform("median")
Products["Unit_price"] = Products["Unit_price"].fillna(Price_by_class)
Products["Unit_price"] = Products["Unit_price"].fillna(Products["Units_sold"].median())

# Fill units sold
units_by_region = Products.groupby("Region")["Units_sold"].transform("median")
Products["Units_sold"] = Products["Units_sold"].fillna(units_by_region)
Products["Units_sold"] = Products["Units_sold"].fillna(Products["Units_sold"].median())

# Drop rows that still lack key categorical fields
Products = Products.dropna(subset=["Class", "Region", "Month"]).reset_index(drop=True)

print(Products)
print("\nMissing after fill:")
print(Products.isna().sum())


Products["Revenue"] = (Products["Units_sold"] * Products["Unit_price"]).round(2)
print(Products.head())
# I made a new column, and named it Revenue and multiplied Units_sold with Unit_price to 
#calculate the Revenue value for each column.


q1 = Products["Unit_price"].quantile(0.33) # lower quantile
q2 = Products["Unit_price"].quantile(0.66) # higher quantile
#everythin between is affordable

def price_band(u, low, high):
    if u < low:
        return "Cheap"
    elif u > high:
        return "Expensive"
    else:
        return "Affordable"
    # I made 3 different price bands.  
    
Products["Price_band"] = Products["Unit_price"].apply(lambda u: price_band(u, q1, q2))
print(Products[["Unit_price", "Price_band"]])
print(Products["Price_band"].value_counts())


class SalesAnalyzer:
    def __init__(self, df: pd.DataFrame):
        self.df = df.copy()

    def revenue_by_region(self):
        return self.df.groupby("Region")["Revenue"].sum().sort_values(ascending=False)
    
    def monthly_revenue_by_class(self):
        return (self.df.groupby(["Month", "Class"])["Revenue"].sum().unstack("Class").fillna(0).sort_index())
    
    def price_band_counts(self):
        return self.df["Price_band"].value_counts()
    
an = SalesAnalyzer(Products)
print(an.revenue_by_region())
print(an.monthly_revenue_by_class())
print(an.price_band_counts())



class SalesVisualizer:
    def __init__(self, df):
        self.df = df

    def plot_revenue_by_region(self):
        plt.figure(figsize=(6,4))
        sns.barplot(data=self.df, x="Region", y="Revenue", estimator="sum", ci=None)
        plt.title("Total Revenue by Region")
        plt.xlabel("Region")
        plt.ylabel("Total Revenue")
        plt.tight_layout()
        plt.show()

    def plot_monthly_revenue_by_class(self):
        plt.figure(figsize=(6,4))
        month_order = ["Jan","Feb","Mar","Apr","May","Jun","Jul","Aug","Sep","Oct","Nov","Dec"]
        order = [m for m in month_order if m in self.df["Month"].unique()]
        sns.barplot(
            data=self.df, x="Month", y="Revenue", hue="Class",
            estimator="sum", ci=None, order=order
        )
        plt.title("Monthly Revenue by Class")
        plt.xlabel("Month")
        plt.ylabel("Total Revenue")
        plt.legend(title="Class")
        plt.tight_layout()
        plt.show()

    def plot_price_band_counts(self):
        plt.figure(figsize=(6,4))
        sns.countplot(data=self.df, x="Price_band", palette="Set2")
        plt.title("Count of Products by Price Band")
        plt.xlabel("Price Band")
        plt.ylabel("Count")
        plt.tight_layout()
        plt.show()



df = Products.copy()
visual = SalesVisualizer(df)
visual.plot_monthly_revenue_by_class()
visual.plot_revenue_by_region()
visual.plot_price_band_counts()
