import nbformat as nbf

# Create a new Jupyter notebook
nb = nbf.v4.new_notebook()
cells = []

# Imports
cells.append(nbf.v4.new_code_cell(
"import pandas as pd\n"
"import numpy as np\n"
"import matplotlib.pyplot as plt\n"
"import seaborn as sns\n"
"sns.set_theme()"
))

# Step 1: Messy dataset
cells.append(nbf.v4.new_markdown_cell("## 1) Create a messy dataset"))
cells.append(nbf.v4.new_code_cell(
"Products = pd.DataFrame({\n"
"    'Class':       [' A ', 'B', 'a', 'C', None, 'B', 'A', 'B ', 'c', 'A'],\n"
"    'Region':      ['east', ' West', 'North ', 'east', 'south', None, 'west', ' EAST', 'south ', 'north'],\n"
"    'Month':       ['Jan', 'JAN', 'Feb ', '2', 'Mar', 'Mar', 'Apr', 'APR', None, 'Apr'],\n"
"    'Units_sold':  [120, 95, 80, 110, 75, np.nan, 90, 100, 85, np.nan],\n"
"    'Unit_price':  [15, 20, '15', 10, 12, 18, None, '19', 11, np.nan],\n"
"})\n"
"print(Products)\n"
"print('\\ninfo():')\n"
"print(Products.info())"
))

# Step 2: Cleaning
cells.append(nbf.v4.new_markdown_cell("## 2) Clean & standardize"))
cells.append(nbf.v4.new_code_cell(
"# 2.1 Standardize text columns\n"
"def normalize_month(x):\n"
"    if pd.isna(x):\n"
"        return np.nan\n"
"    s = str(x).strip().lower()\n"
"    m = {\n"
"        'jan':'Jan','1':'Jan','01':'Jan',\n"
"        'feb':'Feb','2':'Feb','02':'Feb',\n"
"        'mar':'Mar','3':'Mar','03':'Mar',\n"
"        'apr':'Apr','4':'Apr','04':'Apr',\n"
"        'may':'May','5':'May','05':'May',\n"
"        'jun':'Jun','6':'Jun','06':'Jun',\n"
"        'jul':'Jul','7':'Jul','07':'Jul',\n"
"        'aug':'Aug','8':'Aug','08':'Aug',\n"
"        'sep':'Sep','9':'Sep','09':'Sep',\n"
"        'oct':'Oct','10':'Oct',\n"
"        'nov':'Nov','11':'Nov',\n"
"        'dec':'Dec','12':'Dec'\n"
"    }\n"
"    return m.get(s, np.nan)\n"
"\n"
"Products['Class']  = Products['Class'].astype('string').str.strip().str.upper()\n"
"Products['Region'] = Products['Region'].astype('string').str.strip().str.title()\n"
"Products['Month']  = Products['Month'].apply(normalize_month)\n"
"\n"
"# 2.2 Coerce numerics\n"
"Products['Units_sold'] = pd.to_numeric(Products['Units_sold'], errors='coerce')\n"
"Products['Unit_price'] = pd.to_numeric(Products['Unit_price'], errors='coerce')\n"
"\n"
"# 2.3 Fill missing values with group medians then global medians\n"
"price_by_class = Products.groupby('Class')['Unit_price'].transform('median')\n"
"Products['Unit_price'] = Products['Unit_price'].fillna(price_by_class)\n"
"Products['Unit_price'] = Products['Unit_price'].fillna(Products['Unit_price'].median())\n"
"\n"
"units_by_region = Products.groupby('Region')['Units_sold'].transform('median')\n"
"Products['Units_sold'] = Products['Units_sold'].fillna(units_by_region)\n"
"Products['Units_sold'] = Products['Units_sold'].fillna(Products['Units_sold'].median())\n"
"\n"
"# Drop rows missing essential categoricals\n"
"Products = Products.dropna(subset=['Class','Region','Month']).reset_index(drop=True)\n"
"\n"
"# 2.4 Compute Revenue\n"
"Products['Revenue'] = (Products['Units_sold'] * Products['Unit_price']).round(2)\n"
"\n"
"print(Products)\n"
"print('\\nMissing after fill:')\n"
"print(Products.isna().sum())"
))

# Step 3: Price band
cells.append(nbf.v4.new_markdown_cell("## 3) Price band feature"))
cells.append(nbf.v4.new_code_cell(
"q1 = Products['Unit_price'].quantile(0.33)\n"
"q2 = Products['Unit_price'].quantile(0.66)\n"
"\n"
"def price_band(u, low, high):\n"
"    if u < low:\n"
"        return 'Cheap'\n"
"    elif u > high:\n"
"        return 'Expensive'\n"
"    else:\n"
"        return 'Affordable'\n"
"\n"
"Products['Price_band'] = Products['Unit_price'].apply(lambda u: price_band(u, q1, q2))\n"
"print(Products[['Unit_price','Price_band']])\n"
"print('\\nPrice band counts:')\n"
"print(Products['Price_band'].value_counts())"
))

# Step 4: Analyzer class
cells.append(nbf.v4.new_markdown_cell("## 4) SalesAnalyzer (grouped summaries)"))
cells.append(nbf.v4.new_code_cell(
"class SalesAnalyzer:\n"
"    def __init__(self, df: pd.DataFrame):\n"
"        self.df = df.copy()\n"
"\n"
"    def revenue_by_region(self):\n"
"        return self.df.groupby('Region')['Revenue'].sum().sort_values(ascending=False)\n"
"\n"
"    def monthly_revenue_by_class(self):\n"
"        return (\n"
"            self.df.groupby(['Month','Class'])['Revenue']\n"
"                  .sum()\n"
"                  .unstack('Class')\n"
"                  .fillna(0)\n"
"                  .sort_index()\n"
"        )\n"
"\n"
"    def price_band_counts(self):\n"
"        return self.df['Price_band'].value_counts()\n"
"\n"
"an = SalesAnalyzer(Products)\n"
"print('Revenue by region:\\n', an.revenue_by_region())\n"
"print('\\nMonthly revenue by class:\\n', an.monthly_revenue_by_class())\n"
"print('\\nPrice band counts:\\n', an.price_band_counts())"
))

# Step 5: Visualizer class
cells.append(nbf.v4.new_markdown_cell("## 5) SalesVisualizer (Seaborn plots)"))
cells.append(nbf.v4.new_code_cell(
"class SalesVisualizer:\n"
"    def __init__(self, df: pd.DataFrame):\n"
"        self.df = df\n"
"\n"
"    def plot_revenue_by_region(self):\n"
"        plt.figure(figsize=(6,4))\n"
"        sns.barplot(data=self.df, x='Region', y='Revenue', estimator='sum', ci=None)\n"
"        plt.title('Total Revenue by Region')\n"
"        plt.xlabel('Region')\n"
"        plt.ylabel('Total Revenue')\n"
"        plt.tight_layout()\n"
"        plt.show()\n"
"\n"
"    def plot_monthly_revenue_by_class(self):\n"
"        plt.figure(figsize=(6,4))\n"
"        month_order = ['Jan','Feb','Mar','Apr','May','Jun','Jul','Aug','Sep','Oct','Nov','Dec']\n"
"        order = [m for m in month_order if m in self.df['Month'].unique()]\n"
"        sns.barplot(\n"
"            data=self.df, x='Month', y='Revenue', hue='Class',\n"
"            estimator='sum', ci=None, order=order\n"
"        )\n"
"        plt.title('Monthly Revenue by Class')\n"
"        plt.xlabel('Month')\n"
"        plt.ylabel('Total Revenue')\n"
"        plt.legend(title='Class')\n"
"        plt.tight_layout()\n"
"        plt.show()\n"
"\n"
"    def plot_price_band_counts(self):\n"
"        plt.figure(figsize=(6,4))\n"
"        sns.countplot(data=self.df, x='Price_band', palette='Set2')\n"
"        plt.title('Count of Products by Price Band')\n"
"        plt.xlabel('Price Band')\n"
"        plt.ylabel('Count')\n"
"        plt.tight_layout()\n"
"        plt.show()\n"
"\n"
"viz = SalesVisualizer(Products)\n"
"viz.plot_revenue_by_region()\n"
"viz.plot_monthly_revenue_by_class()\n"
"viz.plot_price_band_counts()"
))

# Write notebook
nb['cells'] = cells
path = "/mnt/data/sales_analysis.ipynb"
with open(path, "w", encoding="utf-8") as f:
    nbf.write(nb, f)

path
