{
 "cells": [
  {
   "cell_type": "code",
   "execution_count": 100,
   "id": "b99ee280",
   "metadata": {},
   "outputs": [],
   "source": [
    "import numpy as np\n",
    "import pandas as pd\n",
    "import matplotlib.pyplot as plt"
   ]
  },
  {
   "cell_type": "code",
   "execution_count": 2,
   "id": "b654fdc5",
   "metadata": {},
   "outputs": [
    {
     "name": "stdout",
     "output_type": "stream",
     "text": [
      "[1 2 3 4]\n",
      "[0. 0. 0. 0. 0.]\n",
      "[[1. 1. 1.]\n",
      " [1. 1. 1.]]\n",
      "[0 2 4 6 8]\n"
     ]
    }
   ],
   "source": [
    "a = np.array([1, 2, 3, 4])\n",
    "zeros = np.zeros(5)\n",
    "ones = np.ones((2, 3))\n",
    "range_array = np.arange(0, 10, 2)\n",
    "\n",
    "print(a)\n",
    "print(zeros)\n",
    "print(ones)\n",
    "print(range_array)"
   ]
  },
  {
   "cell_type": "code",
   "execution_count": 3,
   "id": "786bd069",
   "metadata": {},
   "outputs": [
    {
     "name": "stdout",
     "output_type": "stream",
     "text": [
      "[15 25 35 45]\n",
      "[20 40 60 80]\n",
      "[1. 2. 3. 4.]\n",
      "[ 100  400  900 1600]\n"
     ]
    }
   ],
   "source": [
    "a = np.array([10, 20, 30, 40])\n",
    "print(a + 5)\n",
    "print(a * 2)\n",
    "print(a / 10)\n",
    "print(a ** 2)"
   ]
  },
  {
   "cell_type": "code",
   "execution_count": 4,
   "id": "a49dc196",
   "metadata": {},
   "outputs": [
    {
     "name": "stdout",
     "output_type": "stream",
     "text": [
      "5\n",
      "25\n",
      "[10 15 20]\n",
      "[25 20 15 10  5]\n"
     ]
    }
   ],
   "source": [
    "b = np.array([5,10,15,20,25])\n",
    "print(b[0])       # first element\n",
    "print(b[-1])      # last\n",
    "print(b[1:4])     # slice\n",
    "print(b[::-1])    # reverse\n"
   ]
  },
  {
   "cell_type": "code",
   "execution_count": 5,
   "id": "31a42b26",
   "metadata": {},
   "outputs": [
    {
     "name": "stdout",
     "output_type": "stream",
     "text": [
      "86.25\n",
      "92\n",
      "80\n",
      "4.380353866983808\n"
     ]
    }
   ],
   "source": [
    "arr = np.array([80, 92, 85, 88])\n",
    "print(arr.mean())     # average\n",
    "print(arr.max())      # highest\n",
    "print(arr.min())      # lowest\n",
    "print(arr.std())      # standard deviation\n"
   ]
  },
  {
   "cell_type": "code",
   "execution_count": 10,
   "id": "082b9d5e",
   "metadata": {},
   "outputs": [
    {
     "name": "stdout",
     "output_type": "stream",
     "text": [
      "86.25\n",
      "92\n",
      "80\n",
      "[92 88]\n",
      "2\n"
     ]
    }
   ],
   "source": [
    "grades = np.array([80, 92, 85, 88])\n",
    "print(grades.mean())\n",
    "print(grades.max())\n",
    "print(grades.min())\n",
    "print(grades[(grades > 85)])\n",
    "print((grades > 85).sum())"
   ]
  },
  {
   "cell_type": "code",
   "execution_count": 20,
   "id": "80c90b74",
   "metadata": {},
   "outputs": [
    {
     "name": "stdout",
     "output_type": "stream",
     "text": [
      "[80 85 88]\n"
     ]
    }
   ],
   "source": [
    "grades = np.array([80, 92, 85, 88])\n",
    "result = grades[(grades >= 80) & (grades <= 90)]\n",
    "print(result)"
   ]
  },
  {
   "cell_type": "code",
   "execution_count": 14,
   "id": "7af800c2",
   "metadata": {},
   "outputs": [
    {
     "name": "stdout",
     "output_type": "stream",
     "text": [
      "(3, 4)\n",
      "[80 92 85 88]\n",
      "[88 95 80]\n",
      "[71.66666667 86.66666667 84.         87.66666667]\n",
      "[86.25 85.5  75.75]\n"
     ]
    }
   ],
   "source": [
    "data = np.array([\n",
    "    [80, 92, 85, 88],\n",
    "    [75, 90, 82, 95],\n",
    "    [60, 78, 85, 80]\n",
    "])\n",
    "\n",
    "print(data.shape)\n",
    "print(data[0])\n",
    "print(data[:,-1]) #-1, -2,.. are rows. this is how we go through rows\n",
    "print(data.mean(axis=0)) #avg per column\n",
    "print(data.mean(axis=1)) #avg per student"
   ]
  },
  {
   "cell_type": "code",
   "execution_count": null,
   "id": "ef99c577",
   "metadata": {},
   "outputs": [
    {
     "name": "stdout",
     "output_type": "stream",
     "text": [
      "[92 95 85]\n",
      "[60 78 82 80]\n"
     ]
    }
   ],
   "source": [
    "print(data.max(axis=1)) # best score per student\n",
    "print(data.min(axis=0)) # lowest score per subject"
   ]
  },
  {
   "cell_type": "code",
   "execution_count": 19,
   "id": "a60cbf79",
   "metadata": {},
   "outputs": [
    {
     "name": "stdout",
     "output_type": "stream",
     "text": [
      "86.25\n",
      "87.66666666666667\n"
     ]
    }
   ],
   "source": [
    "print(max(data.mean(axis=1))) #Find which student has the highest average.\n",
    "print(max(data.mean(axis=0))) #Find which subject (column) has the highest overall score."
   ]
  },
  {
   "cell_type": "code",
   "execution_count": null,
   "id": "52b13598",
   "metadata": {},
   "outputs": [
    {
     "name": "stdout",
     "output_type": "stream",
     "text": [
      "[[65 58 61 93]\n",
      " [68 77 93 95]\n",
      " [68 92 99 78]\n",
      " [99 64 66 94]\n",
      " [53 94 74 95]]\n",
      "[69.25 83.25 84.25 80.75 79.  ]\n",
      "15.205591076969023\n"
     ]
    }
   ],
   "source": [
    "random_scores = np.random.randint(50, 100, size=(5, 4))\n",
    "print(random_scores)\n",
    "print(random_scores.mean(axis=1)) # # avg per row\n",
    "print(random_scores.std()) # overall std"
   ]
  },
  {
   "cell_type": "code",
   "execution_count": 33,
   "id": "e277152b",
   "metadata": {},
   "outputs": [
    {
     "name": "stdout",
     "output_type": "stream",
     "text": [
      "   Name  Math  Science\n",
      "0   Ali    80       75\n",
      "1  Sara    92       95\n",
      "2  Reza    85       78\n",
      "3  Mina    88       90\n",
      "            Math    Science\n",
      "count   4.000000   4.000000\n",
      "mean   86.250000  84.500000\n",
      "std     5.057997   9.539392\n",
      "min    80.000000  75.000000\n",
      "25%    83.750000  77.250000\n",
      "50%    86.500000  84.000000\n",
      "75%    89.000000  91.250000\n",
      "max    92.000000  95.000000\n",
      "86.25\n"
     ]
    }
   ],
   "source": [
    "import pandas as pd\n",
    "data = {\n",
    "    \"Name\": [\"Ali\", \"Sara\", \"Reza\", \"Mina\"],\n",
    "    \"Math\": [80, 92, 85, 88],\n",
    "    \"Science\": [75, 95, 78, 90]\n",
    "}\n",
    "\n",
    "df = pd.DataFrame(data)\n",
    "print(df)\n",
    "print(df.describe())\n",
    "print(df['Math'].mean())"
   ]
  },
  {
   "cell_type": "code",
   "execution_count": null,
   "id": "555e2d6f",
   "metadata": {},
   "outputs": [
    {
     "name": "stdout",
     "output_type": "stream",
     "text": [
      "[[80 92 85 88]\n",
      " [75 90 82 95]\n",
      " [60 78 85 80]]\n",
      "(3, 4)\n",
      "\n",
      "3 4\n",
      "\n",
      "[80 92 85 88]\n",
      "\n",
      "[88 95 80]\n",
      "\n",
      "[60 78 85 80]\n",
      "\n",
      "[[80 92 85 88]\n",
      " [75 90 82 95]]\n",
      "\n",
      "[[80 92]\n",
      " [75 90]\n",
      " [60 78]]\n"
     ]
    }
   ],
   "source": [
    "grades = np.array([\n",
    "    [80, 92, 85, 88],\n",
    "    [75, 90, 82, 95],\n",
    "    [60, 78, 85, 80]\n",
    "])\n",
    "\n",
    "print(grades)\n",
    "print(grades.shape)\n",
    "print('')\n",
    "print(grades.shape[0], grades.shape[1])\n",
    "print('')\n",
    "print(grades[0]) #shows rows\n",
    "print('')\n",
    "print(grades[:,-1]) #shows the last column\n",
    "print('')\n",
    "print(grades[-1]) #read from bottom\n",
    "print('')\n",
    "print(grades[:2]) #shows the first two rows together\n",
    "print('')\n",
    "print(grades[:,:2]) #shows the first two values of the first two columns"
   ]
  },
  {
   "cell_type": "code",
   "execution_count": 48,
   "id": "32f64432",
   "metadata": {},
   "outputs": [
    {
     "name": "stdout",
     "output_type": "stream",
     "text": [
      "Average of all: 82.5\n",
      "Average per student (row): [86.25 85.5  75.75]\n",
      "Average per subject (col): [71.66666667 86.66666667 84.         87.66666667]\n",
      "Highest grade in each subject: [80 92 85 95]\n",
      "Lowest grade per student: [80 75 60]\n"
     ]
    }
   ],
   "source": [
    "print(\"Average of all:\", grades.mean())\n",
    "print(\"Average per student (row):\", grades.mean(axis=1))\n",
    "print(\"Average per subject (col):\", grades.mean(axis=0))\n",
    "print(\"Highest grade in each subject:\", grades.max(axis=0))\n",
    "print(\"Lowest grade per student:\", grades.min(axis=1))\n"
   ]
  },
  {
   "cell_type": "code",
   "execution_count": 67,
   "id": "88b3254c",
   "metadata": {},
   "outputs": [
    {
     "name": "stdout",
     "output_type": "stream",
     "text": [
      "[86.25 85.5  75.75]\n",
      "0\n",
      "86.25\n"
     ]
    }
   ],
   "source": [
    "# Find which student has the highest average.\n",
    "\n",
    "avg_per_student = grades.mean(axis=1)\n",
    "print(avg_per_student)\n",
    "\n",
    "best_student_index = avg_per_student.argmax() # index of max value\n",
    "print(best_student_index)\n",
    "print(avg_per_student[best_student_index])"
   ]
  },
  {
   "cell_type": "code",
   "execution_count": 68,
   "id": "42249c68",
   "metadata": {},
   "outputs": [
    {
     "name": "stdout",
     "output_type": "stream",
     "text": [
      "[215 260 252 263]\n",
      "3\n",
      "263\n"
     ]
    }
   ],
   "source": [
    "# Find which subject (column) has the highest total.\n",
    "\n",
    "total_per_subject = grades.sum(axis=0)\n",
    "print(total_per_subject)\n",
    "\n",
    "best_sibject_index = total_per_subject.argmax()\n",
    "print(best_sibject_index)\n",
    "print(total_per_subject[best_sibject_index])"
   ]
  },
  {
   "cell_type": "code",
   "execution_count": null,
   "id": "4f1ad24c",
   "metadata": {},
   "outputs": [
    {
     "name": "stdout",
     "output_type": "stream",
     "text": [
      "[92 95]\n"
     ]
    }
   ],
   "source": [
    "# Print all grades above 90.\n",
    "\n",
    "print(grades[grades > 90])"
   ]
  },
  {
   "cell_type": "code",
   "execution_count": 71,
   "id": "c1bf2699",
   "metadata": {},
   "outputs": [
    {
     "name": "stdout",
     "output_type": "stream",
     "text": [
      "[[ 85  97  90  93]\n",
      " [ 80  95  87 100]\n",
      " [ 65  83  90  85]]\n"
     ]
    }
   ],
   "source": [
    "# Add 5 bonus points to all grades.\n",
    "\n",
    "bonus_grades = grades + 5\n",
    "print(bonus_grades)"
   ]
  },
  {
   "cell_type": "code",
   "execution_count": 73,
   "id": "e4737c39",
   "metadata": {},
   "outputs": [
    {
     "name": "stdout",
     "output_type": "stream",
     "text": [
      "[[80 92 85 88]\n",
      " [75 90 82 95]\n",
      " [70 78 85 80]]\n"
     ]
    }
   ],
   "source": [
    "# Replace all grades below 70 with 70.\n",
    "\n",
    "adjusted = grades.copy()\n",
    "adjusted[adjusted < 70] = 70\n",
    "print(adjusted)"
   ]
  },
  {
   "cell_type": "code",
   "execution_count": 72,
   "id": "bfcb6dae",
   "metadata": {},
   "outputs": [
    {
     "name": "stdout",
     "output_type": "stream",
     "text": [
      "   Name  Math  Science  English\n",
      "0   Ali    80       75       82\n",
      "1  Sara    92       95       89\n",
      "2  Reza    85       78       85\n",
      "3  Mina    88       90       91\n"
     ]
    }
   ],
   "source": [
    "data = {\n",
    "    \"Name\": [\"Ali\", \"Sara\", \"Reza\", \"Mina\"],\n",
    "    \"Math\": [80, 92, 85, 88],\n",
    "    \"Science\": [75, 95, 78, 90],\n",
    "    \"English\": [82, 89, 85, 91]\n",
    "} # columsn: subjects # rows: students\n",
    "\n",
    "df = pd.DataFrame(data)\n",
    "print(df)"
   ]
  },
  {
   "cell_type": "code",
   "execution_count": 73,
   "id": "9bb3b51d",
   "metadata": {},
   "outputs": [
    {
     "name": "stdout",
     "output_type": "stream",
     "text": [
      "(4, 4)\n",
      "\n",
      "Index(['Name', 'Math', 'Science', 'English'], dtype='object')\n",
      "\n",
      "        Math  Science  English\n",
      "count   4.00     4.00     4.00\n",
      "mean   86.25    84.50    86.75\n",
      "std     5.06     9.54     4.03\n",
      "min    80.00    75.00    82.00\n",
      "25%    83.75    77.25    84.25\n",
      "50%    86.50    84.00    87.00\n",
      "75%    89.00    91.25    89.50\n",
      "max    92.00    95.00    91.00\n",
      "\n",
      "<class 'pandas.core.frame.DataFrame'>\n",
      "RangeIndex: 4 entries, 0 to 3\n",
      "Data columns (total 4 columns):\n",
      " #   Column   Non-Null Count  Dtype \n",
      "---  ------   --------------  ----- \n",
      " 0   Name     4 non-null      object\n",
      " 1   Math     4 non-null      int64 \n",
      " 2   Science  4 non-null      int64 \n",
      " 3   English  4 non-null      int64 \n",
      "dtypes: int64(3), object(1)\n",
      "memory usage: 260.0+ bytes\n",
      "None\n"
     ]
    }
   ],
   "source": [
    "print(df.shape)        # (4, 4)\n",
    "print('')\n",
    "print(df.columns)      # list of columns\n",
    "print('')\n",
    "print(df.describe().round(2))   # summary stats (mean, min, max, etc.)\n",
    "print('')\n",
    "print(df.info())       # data types & memory\n"
   ]
  },
  {
   "cell_type": "code",
   "execution_count": 74,
   "id": "bcd955f1",
   "metadata": {},
   "outputs": [
    {
     "name": "stdout",
     "output_type": "stream",
     "text": [
      "0    80\n",
      "1    92\n",
      "2    85\n",
      "3    88\n",
      "Name: Math, dtype: int64\n",
      "\n",
      "   Math  Science\n",
      "0    80       75\n",
      "1    92       95\n",
      "2    85       78\n",
      "3    88       90\n",
      "\n",
      "Name       Ali\n",
      "Math        80\n",
      "Science     75\n",
      "English     82\n",
      "Name: 0, dtype: object Name       Mina\n",
      "Math         88\n",
      "Science      90\n",
      "English      91\n",
      "Name: 3, dtype: object\n",
      "\n",
      "   Name  Math  Science  English\n",
      "1  Sara    92       95       89\n",
      "2  Reza    85       78       85\n"
     ]
    }
   ],
   "source": [
    "print(df[\"Math\"]) # one column (Series)\n",
    "print('')\n",
    "print(df[[\"Math\", \"Science\"]])  # list of columns\n",
    "print('')\n",
    "print(df.iloc[0], df.iloc[3]) # select rows (by index)\n",
    "print('')\n",
    "print(df.iloc[1:3])\n"
   ]
  },
  {
   "cell_type": "code",
   "execution_count": 75,
   "id": "3246a930",
   "metadata": {},
   "outputs": [
    {
     "name": "stdout",
     "output_type": "stream",
     "text": [
      "   Name  Math  Science  English  Average\n",
      "0   Ali    80       75       82    79.00\n",
      "1  Sara    92       95       89    92.00\n",
      "2  Reza    85       78       85    82.67\n",
      "3  Mina    88       90       91    89.67\n"
     ]
    }
   ],
   "source": [
    "df['Average'] = df[[\"Math\", \"Science\", \"English\"]].mean(axis=1)\n",
    "print(df.round(2)) #Adds a new column with each student’s average."
   ]
  },
  {
   "cell_type": "code",
   "execution_count": 76,
   "id": "b77b5ca9",
   "metadata": {},
   "outputs": [
    {
     "name": "stdout",
     "output_type": "stream",
     "text": [
      "   Name  Math  Science  English  Average\n",
      "1  Sara    92       95       89    92.00\n",
      "3  Mina    88       90       91    89.67\n",
      "   Name  Math  Science  English  Average\n",
      "1  Sara    92       95       89     92.0\n"
     ]
    }
   ],
   "source": [
    "print(df[df[\"Average\"] > 85].round(2))  # who has average > 85\n",
    "print(df[df[\"Math\"] > 90].round(2)) # who scored 90+ in Math"
   ]
  },
  {
   "cell_type": "code",
   "execution_count": 77,
   "id": "a12f3eb4",
   "metadata": {},
   "outputs": [
    {
     "name": "stdout",
     "output_type": "stream",
     "text": [
      "   Name  Math  Science  English  Average\n",
      "1  Sara    92       95       89    92.00\n",
      "3  Mina    88       90       91    89.67\n",
      "2  Reza    85       78       85    82.67\n",
      "0   Ali    80       75       82    79.00\n"
     ]
    }
   ],
   "source": [
    "print(df.sort_values(by=\"Average\", ascending=False).round(2)) #sorting"
   ]
  },
  {
   "cell_type": "code",
   "execution_count": 84,
   "id": "4e7538c4",
   "metadata": {},
   "outputs": [
    {
     "name": "stdout",
     "output_type": "stream",
     "text": [
      "   Name  Math  Science  English  Average\n",
      "0   Ali    80       75       82    79.00\n",
      "1  Sara    92       95       89    92.00\n",
      "2  Reza    85       78       85    82.67\n",
      "3  Mina    88       90       91    89.67\n",
      "----------------------------------------------------\n",
      "   Name  Math  Science  English  Average\n",
      "1  Sara    92       95       89    92.00\n",
      "2  Reza    85       78       85    82.67\n",
      "3  Mina    88       90       91    89.67\n",
      "----------------------------------------------------\n",
      "Name       Sara\n",
      "Average    92.0\n",
      "Name: 1, dtype: object\n",
      "----------------------------------------------------\n",
      "   Name  Science\n",
      "1  Sara       95\n",
      "3  Mina       90\n",
      "2  Reza       78\n",
      "0   Ali       75\n"
     ]
    }
   ],
   "source": [
    "df['Average'] = df[[\"Math\", \"Science\", \"English\"]].mean(axis=1).round(2)\n",
    "print(df) #add avg column\n",
    "print('----------------------------------------------------')\n",
    "# print(df[df[\"Math\"] >= 85]) \n",
    "print(df.loc[df.Math >= 85]) #Show only students with \"Math\" ≥ 85.\n",
    "print('----------------------------------------------------')\n",
    "print(df.loc[df['Average'].idxmax(), [\"Name\", \"Average\"]]) #Find the student with the highest average.\n",
    "print('----------------------------------------------------')\n",
    "print(df.sort_values(by=\"Science\", ascending=False)[['Name', 'Science']]) #Sort all students by \"Science\" descending."
   ]
  },
  {
   "cell_type": "code",
   "execution_count": 104,
   "id": "7d8b7465",
   "metadata": {},
   "outputs": [],
   "source": [
    "import pandas as pd\n",
    "\n",
    "df = pd.DataFrame({\n",
    "    \"Name\":    [\"Ali\",\"Sara\",\"Reza\",\"Mina\",\"Omid\",\"Neda\"],\n",
    "    \"Class\":   [\"A\",\"A\",\"B\",\"B\",\"A\",\"B\"],\n",
    "    \"Math\":    [80, 92, 85, 88, 73, 95],\n",
    "    \"Science\": [75, 95, 78, 90, 88, 86],\n",
    "    \"English\": [82, 89, 85, 91, 84, 93]\n",
    "})"
   ]
  },
  {
   "cell_type": "code",
   "execution_count": null,
   "id": "2792e933",
   "metadata": {},
   "outputs": [],
   "source": [
    "#Selection with loc / iloc"
   ]
  },
  {
   "cell_type": "code",
   "execution_count": null,
   "id": "6cb722a9",
   "metadata": {},
   "outputs": [
    {
     "name": "stdout",
     "output_type": "stream",
     "text": [
      "Name       Ali\n",
      "Class        A\n",
      "Math        80\n",
      "Science     75\n",
      "English     82\n",
      "Name: 0, dtype: object\n"
     ]
    }
   ],
   "source": [
    "print(df.iloc[0]) #Select row 0 with iloc"
   ]
  },
  {
   "cell_type": "code",
   "execution_count": null,
   "id": "1efa8fce",
   "metadata": {},
   "outputs": [
    {
     "name": "stdout",
     "output_type": "stream",
     "text": [
      "   Math  English\n",
      "1    92       89\n",
      "2    85       85\n"
     ]
    }
   ],
   "source": [
    "print(df.iloc[1:3][[\"Math\", \"English\"]]) #Select rows 1–3 and columns Math..English with loc"
   ]
  },
  {
   "cell_type": "code",
   "execution_count": null,
   "id": "140f7ec7",
   "metadata": {},
   "outputs": [
    {
     "name": "stdout",
     "output_type": "stream",
     "text": [
      "   Name  Math\n",
      "0   Ali    80\n",
      "1  Sara    92\n",
      "4  Omid    73\n"
     ]
    }
   ],
   "source": [
    "print(df.loc[df[\"Class\"] == \"A\", [\"Name\", \"Math\"]]) #Select Name and Math for Class A only"
   ]
  },
  {
   "cell_type": "code",
   "execution_count": null,
   "id": "2fa3718f",
   "metadata": {},
   "outputs": [],
   "source": [
    "#Create/transform columns"
   ]
  },
  {
   "cell_type": "code",
   "execution_count": null,
   "id": "a16ea3a6",
   "metadata": {},
   "outputs": [
    {
     "name": "stdout",
     "output_type": "stream",
     "text": [
      "   Name  Average\n",
      "0   Ali    79.00\n",
      "1  Sara    92.00\n",
      "2  Reza    82.67\n",
      "3  Mina    89.67\n",
      "4  Omid    81.67\n",
      "5  Neda    91.33\n"
     ]
    }
   ],
   "source": [
    "df = df.assign(Average= df[[\"Math\", \"Science\", \"English\"]].mean(axis=1).round(2))\n",
    "print(df[[\"Name\", \"Average\"]]) #Add Average column (rounded to 2 decimals) using assign"
   ]
  },
  {
   "cell_type": "code",
   "execution_count": null,
   "id": "a85f3ffa",
   "metadata": {},
   "outputs": [
    {
     "name": "stdout",
     "output_type": "stream",
     "text": [
      "   Name  Average  Passed\n",
      "0   Ali    79.00   False\n",
      "1  Sara    92.00    True\n",
      "2  Reza    82.67   False\n",
      "3  Mina    89.67    True\n",
      "4  Omid    81.67   False\n",
      "5  Neda    91.33    True\n"
     ]
    }
   ],
   "source": [
    "df[\"Passed\"] = df[\"Average\"] >= 85\n",
    "print(df[[\"Name\", \"Average\", \"Passed\"]]) #Create Passed column: True if Average >= 85, else False"
   ]
  },
  {
   "cell_type": "code",
   "execution_count": null,
   "id": "83dbcb6e",
   "metadata": {},
   "outputs": [
    {
     "name": "stdout",
     "output_type": "stream",
     "text": [
      "['Name', 'Class', 'Math', 'Science', 'Eng', 'Average', 'Passed']\n"
     ]
    }
   ],
   "source": [
    "df = df.rename(columns={\"English\": \"Eng\"}) #Rename columns to title case and English → Eng\n",
    "print(df.columns.to_list())"
   ]
  },
  {
   "cell_type": "code",
   "execution_count": 116,
   "id": "2d91a9bd",
   "metadata": {},
   "outputs": [],
   "source": [
    "#Filtering and Sorting"
   ]
  },
  {
   "cell_type": "code",
   "execution_count": null,
   "id": "9aff25e7",
   "metadata": {},
   "outputs": [
    {
     "name": "stdout",
     "output_type": "stream",
     "text": [
      "   Name  Math  Science\n",
      "1  Sara    92       95\n",
      "5  Neda    95       86\n"
     ]
    }
   ],
   "source": [
    "print(df.loc[df[\"Math\"] >= 90].sort_values(\"Science\", ascending=False)[[\"Name\", \"Math\", \"Science\"]])\n",
    "#Show students with Math ≥ 90 sorted by Science desc"
   ]
  },
  {
   "cell_type": "code",
   "execution_count": null,
   "id": "c9e2c896",
   "metadata": {},
   "outputs": [
    {
     "name": "stdout",
     "output_type": "stream",
     "text": [
      "   Name  Average\n",
      "1  Sara    92.00\n",
      "5  Neda    91.33\n",
      "3  Mina    89.67\n"
     ]
    }
   ],
   "source": [
    "print(df.nlargest(3, \"Average\")[[\"Name\", \"Average\"]]) #Show top-3 by Average (name + average)"
   ]
  },
  {
   "cell_type": "code",
   "execution_count": null,
   "id": "ca5ee306",
   "metadata": {},
   "outputs": [],
   "source": [
    "#GroupBy"
   ]
  },
  {
   "cell_type": "code",
   "execution_count": 115,
   "id": "04ecaee7",
   "metadata": {},
   "outputs": [
    {
     "name": "stdout",
     "output_type": "stream",
     "text": [
      "        Math  Science    Eng\n",
      "Class                       \n",
      "A      81.67    86.00  85.00\n",
      "B      89.33    84.67  89.67\n"
     ]
    }
   ],
   "source": [
    "by_calss = (df.groupby(\"Class\")[[\"Math\", \"Science\", \"Eng\"]].mean().round(2))\n",
    "print(by_calss)"
   ]
  },
  {
   "cell_type": "code",
   "execution_count": 118,
   "id": "08b65dfd",
   "metadata": {},
   "outputs": [
    {
     "name": "stdout",
     "output_type": "stream",
     "text": [
      "       avg_mean  n\n",
      "Class             \n",
      "A         84.22  3\n",
      "B         87.89  3\n"
     ]
    }
   ],
   "source": [
    "#For each Class, compute Average mean and count of students\n",
    "agg = df.groupby(\"Class\").agg(avg_mean = (\"Average\", \"mean\"), n= (\"Name\", \"count\")).round(2)\n",
    "print(agg)"
   ]
  },
  {
   "cell_type": "code",
   "execution_count": null,
   "id": "c2034618",
   "metadata": {},
   "outputs": [
    {
     "name": "stdout",
     "output_type": "stream",
     "text": [
      "  Class  Name  Average\n",
      "1     A  Sara    92.00\n",
      "5     B  Neda    91.33\n"
     ]
    }
   ],
   "source": [
    "#For each Class, get the student with max Average (name + average)\n",
    "idx = df.groupby(\"Class\")[\"Average\"].idxmax()\n",
    "print(df.loc[idx, [\"Class\", \"Name\", \"Average\"]].sort_values(\"Class\"))"
   ]
  },
  {
   "cell_type": "code",
   "execution_count": null,
   "id": "e6714156",
   "metadata": {},
   "outputs": [
    {
     "name": "stdout",
     "output_type": "stream",
     "text": [
      "   Name Class  Average  Passed Subject  Score\n",
      "0   Ali     A    79.00   False    Math     80\n",
      "1  Sara     A    92.00    True    Math     92\n",
      "2  Reza     B    82.67   False    Math     85\n",
      "3  Mina     B    89.67    True    Math     88\n",
      "4  Omid     A    81.67   False    Math     73\n"
     ]
    }
   ],
   "source": [
    "#Wide → long (tidy): melt subject scores into rows:\n",
    "long = df.melt(id_vars=[\"Name\", \"Class\", \"Average\", \"Passed\"], value_vars=[\"Math\", \"Science\", \"Eng\"], var_name=\"Subject\", value_name=\"Score\")\n",
    "print(long.head())"
   ]
  },
  {
   "cell_type": "code",
   "execution_count": 121,
   "id": "d1d5fe71",
   "metadata": {},
   "outputs": [
    {
     "name": "stdout",
     "output_type": "stream",
     "text": [
      "Class  Subject\n",
      "A      Eng        85.00\n",
      "       Math       81.67\n",
      "       Science    86.00\n",
      "B      Eng        89.67\n",
      "       Math       89.33\n",
      "       Science    84.67\n",
      "Name: Score, dtype: float64\n"
     ]
    }
   ],
   "source": [
    "#From long, get mean Score per Class×Subject\n",
    "print(long.groupby([\"Class\",\"Subject\"])[\"Score\"].mean().round(2))"
   ]
  },
  {
   "cell_type": "code",
   "execution_count": null,
   "id": "bb838542",
   "metadata": {},
   "outputs": [],
   "source": [
    "# 🧠 NumPy\n",
    "\n",
    "# np.array([...]) → creates a NumPy array.\n",
    "\n",
    "# np.zeros(5) → creates an array of 5 zeros [0. 0. 0. 0. 0.].\n",
    "\n",
    "# np.ones((2,3)) → 2 rows × 3 columns filled with 1.0.\n",
    "\n",
    "# np.arange(start, stop, step) → like Python range(), creates sequence numbers.\n",
    "\n",
    "# .shape → returns (rows, columns) for 2D arrays.\n",
    "\n",
    "# .ndim → returns number of dimensions (1D, 2D, etc).\n",
    "\n",
    "# .mean() → average of all elements. *****************************\n",
    "\n",
    "# .mean(axis=0) → average per column. *****************************\n",
    "\n",
    "# .mean(axis=1) → average per row.\n",
    "\n",
    "# .max(), .min(), .std() → maximum, minimum, standard deviation.\n",
    "\n",
    "# arr[arr > 80] → filters elements greater than 80.\n",
    "\n",
    "# (arr >= 70) & (arr <= 90) → condition between 70 and 90.\n",
    "\n",
    "# arr[arr < 70] = 70 → replace all values below 70 with 70.\n",
    "\n",
    "# arr + 5 / arr * 2 → elementwise operations.\n",
    "\n",
    "# 🧠 Pandas\n",
    "\n",
    "# pd.DataFrame(data) → create a table from dict or list.\n",
    "\n",
    "# .shape → (rows, columns).\n",
    "\n",
    "# .columns → list of column names.\n",
    "\n",
    "# .describe() → summary stats for numeric columns.\n",
    "\n",
    "# .info() → column data types & memory info.\n",
    "\n",
    "# df[\"Math\"] → select one column (Series).\n",
    "\n",
    "# df[[\"Math\",\"Science\"]] → select multiple columns.\n",
    "\n",
    "# df.iloc[row_index, col_index] → integer position selection.\n",
    "\n",
    "# df.iloc[0] → first row.\n",
    "\n",
    "# df.iloc[1:3] → rows 1 and 2.\n",
    "\n",
    "# df.loc[row_condition, column_names] → label-based selection.\n",
    "\n",
    "# df.loc[df[\"Class\"]==\"A\", [\"Name\",\"Math\"]] → filter rows & select columns.\n",
    "\n",
    "# 🧠 Column Operations\n",
    "\n",
    "# df[\"Average\"] = df[[\"Math\",\"Science\"]].mean(axis=1) → new column with row averages.\n",
    "\n",
    "# .round(2) → round to 2 decimals.\n",
    "\n",
    "# df[\"Passed\"] = df[\"Average\"] >= 85 → boolean column.\n",
    "\n",
    "# .rename(columns={\"Old\":\"New\"}) → rename column(s).\n",
    "\n",
    "# 🧠 Filtering\n",
    "\n",
    "# df[df[\"Math\"] >= 90] → rows where Math ≥ 90.\n",
    "\n",
    "# df.query(\"Math >= 90\") → alternative syntax.\n",
    "\n",
    "# df.sort_values(by=\"Average\", ascending=False) → sort rows.\n",
    "\n",
    "# 🧠 Aggregation / Grouping\n",
    "\n",
    "# df.groupby(\"Class\")[[\"Math\",\"Science\"]].mean() → mean per group.\n",
    "\n",
    "# .agg({...}) → multiple aggregations.\n",
    "#🧠 Aggregation / Grouping\n",
    "\n",
    "# df.groupby(\"Class\").agg(\n",
    "#     avg_mean=(\"Average\",\"mean\"),\n",
    "#     count=(\"Name\",\"count\")\n",
    "# )\n",
    "\n",
    "#.idxmax() → returns index of max value.\n",
    "# df.loc[df[\"Average\"].idxmax()]\n",
    "\n",
    "# 🧠 Reshaping\n",
    "\n",
    "# .melt() → transforms wide table → long (tidy) format.\n",
    "# df.melt(id_vars=[\"Name\"], value_vars=[\"Math\",\"Science\"], var_name=\"Subject\", value_name=\"Score\")\n",
    "# Turns columns into rows for easier analysis.\n"
   ]
  },
  {
   "cell_type": "code",
   "execution_count": 2,
   "id": "798c9542",
   "metadata": {},
   "outputs": [
    {
     "name": "stdout",
     "output_type": "stream",
     "text": [
      "A    3\n",
      "B    2\n",
      "C    1\n",
      "Name: count, dtype: int64\n"
     ]
    }
   ],
   "source": [
    "s = pd.Series([\"A\",\"B\",\"A\",\"C\",\"B\",\"A\"])\n",
    "print(s.value_counts())"
   ]
  },
  {
   "cell_type": "code",
   "execution_count": 70,
   "id": "00e0024a",
   "metadata": {},
   "outputs": [],
   "source": [
    "df = pd.DataFrame({\n",
    "    \"Class\": [\"A\", \"A\", \"B\", \"B\", \"A\", \"B\"],\n",
    "    \"Passed\": [True, False, True, True, False, True]\n",
    "})"
   ]
  },
  {
   "cell_type": "code",
   "execution_count": 8,
   "id": "12d924ca",
   "metadata": {},
   "outputs": [
    {
     "name": "stdout",
     "output_type": "stream",
     "text": [
      "   Name  Math  Science\n",
      "1  Sara    92       95\n",
      "3  Mina    88       90\n"
     ]
    }
   ],
   "source": [
    "df = pd.DataFrame({\n",
    "    \"Name\": [\"Ali\",\"Sara\",\"Reza\",\"Mina\"],\n",
    "    \"Math\": [80,92,85,88],\n",
    "    \"Science\": [75,95,78,90],\n",
    "})\n",
    "high_math_and_sci = df[(df[\"Math\"] >= 85) & (df[\"Science\"] >= 90)]\n",
    "print(high_math_and_sci)"
   ]
  },
  {
   "cell_type": "code",
   "execution_count": null,
   "id": "3392ee68",
   "metadata": {},
   "outputs": [
    {
     "name": "stdout",
     "output_type": "stream",
     "text": [
      "   Name  Math  Science\n",
      "1  Sara    92       95\n"
     ]
    }
   ],
   "source": [
    "high_score = df[(df[\"Math\"] >= 90) & (df[\"Science\"] >= 90)]\n",
    "print(high_score) #students with Math >= 90 OR Science >= 90"
   ]
  },
  {
   "cell_type": "code",
   "execution_count": null,
   "id": "5e8e332c",
   "metadata": {},
   "outputs": [
    {
     "name": "stdout",
     "output_type": "stream",
     "text": [
      "   Name  Math  Science\n",
      "0   Ali    80       75\n",
      "2  Reza    85       78\n",
      "3  Mina    88       90\n"
     ]
    }
   ],
   "source": [
    "math_score = df[df[\"Math\"].between(80, 90, inclusive=\"both\")]\n",
    "print(math_score) #students with Math BETWEEN 80 and 90 inclusive"
   ]
  },
  {
   "cell_type": "code",
   "execution_count": null,
   "id": "dbe20e59",
   "metadata": {},
   "outputs": [
    {
     "name": "stdout",
     "output_type": "stream",
     "text": [
      "  Class Classname\n",
      "0     A     Alpha\n",
      "1     B      Beta\n",
      "2     A     Alpha\n",
      "3     B      Beta\n"
     ]
    }
   ],
   "source": [
    "df = pd.DataFrame({\"Class\": [\"A\",\"B\",\"A\",\"B\"]})\n",
    "map_dict = {\"A\": \"Alpha\", \"B\": \"Beta\"}\n",
    "df[\"Classname\"] = df[\"Class\"].map(map_dict)\n",
    "print(df) \n",
    "#In Python's Pandas library, the map() method is used for element-wise operations \n",
    "#on a Series or a DataFrame column. It provides a way to transform or replace \n",
    "#values within a Series by applying a function, a dictionary, or another Series."
   ]
  },
  {
   "cell_type": "code",
   "execution_count": null,
   "id": "cadcacd3",
   "metadata": {},
   "outputs": [
    {
     "name": "stdout",
     "output_type": "stream",
     "text": [
      "  GradeLetter\n",
      "0           A\n",
      "1           B\n",
      "2          C-\n",
      "3           A\n",
      "4           B\n",
      "5          C-\n"
     ]
    }
   ],
   "source": [
    "df = pd.DataFrame({\"GradeLetter\": [\"A\",\"B\",\"C\",\"A\",\"B\",\"C\"]})\n",
    "map_dict = {\"A\": 90, \"B\": 80, \"C\": 70}\n",
    "df[\"GradeLetter\"] = df[\"GradeLetter\"].replace({\"C\": \"C-\"}) \n",
    "print(df) #convert categories to new labels or scores."
   ]
  },
  {
   "cell_type": "code",
   "execution_count": null,
   "id": "5eb1b922",
   "metadata": {},
   "outputs": [
    {
     "name": "stdout",
     "output_type": "stream",
     "text": [
      "   Math  Science     Tag\n",
      "0    80       75      OK\n",
      "1    92       95  Strong\n",
      "2    85       78      OK\n",
      "3    88       90  Strong\n"
     ]
    }
   ],
   "source": [
    "df = pd.DataFrame({\n",
    "    \"Math\": [80, 92, 85, 88],\n",
    "    \"Science\": [75, 95, 78, 90]\n",
    "})\n",
    "\n",
    "df[\"Tag\"] = df.apply(lambda row: \"Strong\"\n",
    "                     if (row[\"Math\"] >= 90 or row[\"Science\"] >= 90)\n",
    "                     else \"OK\", axis=1)\n",
    "\n",
    "print(df) #run your own function over a Series or across rows"
   ]
  },
  {
   "cell_type": "code",
   "execution_count": 45,
   "id": "dd56716f",
   "metadata": {},
   "outputs": [
    {
     "name": "stdout",
     "output_type": "stream",
     "text": [
      "   Name  Math  Science  English  Average    Category\n",
      "0  Reza    87       83       91    87.00        Good\n",
      "1  Mina    89       88       82    86.33        Good\n",
      "2   Ali    88       90       92    90.00    Excelent\n",
      "3  Mina    65       94       62    73.67  Needs Work\n",
      "4   Ali    94       92       77    87.67        Good\n",
      "5  Mina    96       80       84    86.67        Good\n"
     ]
    }
   ],
   "source": [
    "df = pd.DataFrame({\n",
    "    \"Name\": np.random.choice([\"Ali\", \"Sara\", \"Reza\", \"Mina\"], size=6),\n",
    "    \"Math\": np.random.randint(60, 100, size=6),\n",
    "    \"Science\": np.random.randint(60, 100, size=6),\n",
    "    \"English\": np.random.randint(60, 100, size=6)\n",
    "})\n",
    "\n",
    "\n",
    "df[\"Average\"] = df[[\"Math\", \"Science\", \"English\"]].mean(axis=1).round(2)\n",
    "df[\"Category\"] = df.apply(\n",
    "    lambda row: (\n",
    "        \"Excelent\" if row[\"Average\"] >= 90\n",
    "        else \"Good\" if row[\"Average\"] >= 80\n",
    "        else \"Needs Work\"\n",
    "    ),\n",
    "    axis=1\n",
    ")\n",
    "\n",
    "print(df)\n"
   ]
  },
  {
   "cell_type": "code",
   "execution_count": null,
   "id": "b3c327f2",
   "metadata": {},
   "outputs": [
    {
     "name": "stdout",
     "output_type": "stream",
     "text": [
      "       math_mean  sci_max  count\n",
      "Class                           \n",
      "A          81.67       95      3\n",
      "B          89.33       90      3\n"
     ]
    }
   ],
   "source": [
    "df = pd.DataFrame({\n",
    "    \"Class\": [\"A\",\"A\",\"B\",\"B\",\"A\",\"B\"],\n",
    "    \"Math\":  [80,92,85,88,73,95],\n",
    "    \"Sci\":   [75,95,78,90,88,86]\n",
    "})\n",
    "\n",
    "summary = df.groupby(\"Class\").agg(\n",
    "    math_mean=(\"Math\",\"mean\"),\n",
    "    sci_max=(\"Sci\",\"max\"),\n",
    "    count=(\"Math\",\"count\")\n",
    ").round(2)\n",
    "\n",
    "print(summary) #summarize by groups with multiple stats at once."
   ]
  },
  {
   "cell_type": "code",
   "execution_count": 49,
   "id": "fa620792",
   "metadata": {},
   "outputs": [
    {
     "name": "stdout",
     "output_type": "stream",
     "text": [
      "       math_mean  Sci_min  count\n",
      "Class                           \n",
      "A          81.67       75      3\n",
      "B          89.33       78      3\n"
     ]
    }
   ],
   "source": [
    "summary = df.groupby(\"Class\").agg(\n",
    "    math_mean =(\"Math\", \"mean\"),\n",
    "    Sci_min = (\"Sci\", \"min\"),\n",
    "    count = (\"Class\", \"count\")\n",
    ").round(2)\n",
    "print(summary)"
   ]
  },
  {
   "cell_type": "code",
   "execution_count": 50,
   "id": "a2eff675",
   "metadata": {},
   "outputs": [
    {
     "name": "stdout",
     "output_type": "stream",
     "text": [
      "Subject  Math   Sci\n",
      "Class              \n",
      "A        80.0  85.0\n",
      "B        90.0  90.0\n"
     ]
    }
   ],
   "source": [
    "df = pd.DataFrame({\n",
    "    \"Class\": [\"A\",\"A\",\"B\",\"B\",\"A\",\"B\"],\n",
    "    \"Subject\": [\"Math\",\"Sci\",\"Math\",\"Sci\",\"Sci\",\"Math\"],\n",
    "    \"Score\": [80,75,85,90,95,95]\n",
    "})\n",
    "pt = df.pivot_table(values=\"Score\", index=\"Class\", columns=\"Subject\", aggfunc=\"mean\")\n",
    "print(pt)\n",
    "#aggregates values into a matrix by rows/columns."
   ]
  },
  {
   "cell_type": "code",
   "execution_count": 51,
   "id": "c58e2847",
   "metadata": {},
   "outputs": [
    {
     "name": "stdout",
     "output_type": "stream",
     "text": [
      "Subject  Math   Sci\n",
      "Class              \n",
      "A        80.0  85.0\n",
      "B        90.0  90.0\n"
     ]
    }
   ],
   "source": [
    "pivot = df.pivot_table(\n",
    "    index= \"Class\",\n",
    "    columns= \"Subject\",\n",
    "    values= \"Score\",\n",
    "    aggfunc= \"mean\"\n",
    ")\n",
    "\n",
    "print(pivot)"
   ]
  },
  {
   "cell_type": "code",
   "execution_count": 52,
   "id": "1ad49ad2",
   "metadata": {},
   "outputs": [
    {
     "name": "stdout",
     "output_type": "stream",
     "text": [
      "   ID  Name Subject  Score\n",
      "0   1   Ali    Math     80\n",
      "1   1   Ali     Sci     75\n",
      "2   2  Sara    Math     92\n",
      "3   3  Reza     Sci     85\n"
     ]
    }
   ],
   "source": [
    "students = pd.DataFrame({\n",
    "    \"ID\": [1,2,3],\n",
    "    \"Name\": [\"Ali\",\"Sara\",\"Reza\"]\n",
    "})\n",
    "scores = pd.DataFrame({\n",
    "    \"ID\": [1,1,2,3],\n",
    "    \"Subject\": [\"Math\",\"Sci\",\"Math\",\"Sci\"],\n",
    "    \"Score\": [80,75,92,85]\n",
    "})\n",
    "merged = students.merge(scores, on=\"ID\", how=\"left\")\n",
    "print(merged)"
   ]
  },
  {
   "cell_type": "code",
   "execution_count": 67,
   "id": "54e58d36",
   "metadata": {},
   "outputs": [
    {
     "name": "stdout",
     "output_type": "stream",
     "text": [
      "   Name  ID  Math  Science  Average\n",
      "0   Ali   1    85       88     86.5\n",
      "1  Sara   2    92       95     93.5\n",
      "2  Reza   3    78       82     80.0\n"
     ]
    }
   ],
   "source": [
    "students = pd.DataFrame({\n",
    "    \"Name\": [\"Ali\", \"Sara\", \"Reza\"],\n",
    "    \"ID\": [1, 2, 3]\n",
    "})\n",
    "\n",
    "grades = pd.DataFrame({\n",
    "    \"ID\": [1, 2, 3],\n",
    "    \"Math\": [85, 92, 78],\n",
    "    \"Science\": [88, 95, 82]\n",
    "})\n",
    "\n",
    "merged = students.merge(grades, on=\"ID\", how=\"left\")\n",
    "merged[\"Average\"] = merged[[\"Math\", \"Science\"]].mean(axis=1).round(3)\n",
    "print(merged)"
   ]
  },
  {
   "cell_type": "code",
   "execution_count": 110,
   "id": "cf28a54e",
   "metadata": {},
   "outputs": [
    {
     "name": "stdout",
     "output_type": "stream",
     "text": [
      " Full merged data:\n",
      "    Name  ID Class  Math  Science  English  Average  Passed   Category\n",
      "0   Ali   1     A    84       87       74    81.67   False       Good\n",
      "1  Reza   2     B    91       94       86    90.33    True  Excellent\n",
      "2  Sara   3     C    77       81       95    84.33   False       Good \n",
      "\n",
      " Summary by Class:\n",
      "        Math_mean  Science_mean  English_mean  Pass_rate  Count\n",
      "Class                                                         \n",
      "A           84.0          87.0          74.0        0.0    NaN\n",
      "B           91.0          94.0          86.0      100.0    NaN\n",
      "C           77.0          81.0          95.0        0.0    NaN \n",
      "\n",
      " Pivot (Class × Subject mean):\n",
      " Subject  English  Math  Science\n",
      "Class                          \n",
      "A           74.0  84.0     87.0\n",
      "B           86.0  91.0     94.0\n",
      "C           95.0  77.0     81.0 \n",
      "\n",
      " Ranked (by Average desc):\n",
      "    Name Class  Math  Science  English  Average  Passed   Category\n",
      "1  Reza     B    91       94       86    90.33    True  Excellent\n",
      "2  Sara     C    77       81       95    84.33   False       Good\n",
      "0   Ali     A    84       87       74    81.67   False       Good\n"
     ]
    }
   ],
   "source": [
    "import pandas as pd\n",
    "import numpy as np\n",
    "\n",
    "# -------------------------------------------------------\n",
    "# 1) Students table: ID, Name, Class\n",
    "# -------------------------------------------------------\n",
    "students = pd.DataFrame({\n",
    "    \"Name\": [\"Ali\", \"Reza\", \"Sara\"],   # student names\n",
    "    \"ID\": [1, 2, 3],                   # unique IDs\n",
    "    \"Class\": [\"A\", \"B\", \"C\"]           # class assignment\n",
    "})\n",
    "\n",
    "# -------------------------------------------------------\n",
    "# 2) Scores table: ID, Math, Science, English\n",
    "# -------------------------------------------------------\n",
    "scores = pd.DataFrame({\n",
    "    \"ID\": [1, 2, 3],                   # ID to join on\n",
    "    \"Math\": [84, 91, 77],              # Math scores\n",
    "    \"Science\": [87, 94, 81],           # Science scores\n",
    "    \"English\": [74, 86, 95]            # English scores\n",
    "})\n",
    "\n",
    "# -------------------------------------------------------\n",
    "# 3) Merge students + scores on ID (left = keep all students)\n",
    "# -------------------------------------------------------\n",
    "merged = students.merge(scores, on=\"ID\", how=\"left\")\n",
    "\n",
    "# -------------------------------------------------------\n",
    "# 4) Average across Math/Science/English (row-wise), rounded\n",
    "# -------------------------------------------------------\n",
    "merged[\"Average\"] = merged[[\"Math\", \"Science\", \"English\"]].mean(axis=1).round(2)\n",
    "\n",
    "# -------------------------------------------------------\n",
    "# 5) Passed: True if Average >= 85\n",
    "# -------------------------------------------------------\n",
    "merged[\"Passed\"] = merged[\"Average\"] >= 85\n",
    "\n",
    "# -------------------------------------------------------\n",
    "# 6) Category based on Average:\n",
    "#    - Excellent if >= 90\n",
    "#    - Good      if 80–89.99\n",
    "#    - Needs Work if < 80\n",
    "#    Using pd.cut with right=False => intervals are [low, high)\n",
    "# -------------------------------------------------------\n",
    "merged[\"Category\"] = pd.cut(\n",
    "    merged[\"Average\"],\n",
    "    bins=[-np.inf, 80, 90, np.inf],              # <80, [80,90), >=90\n",
    "    labels=[\"Needs Work\", \"Good\", \"Excellent\"],\n",
    "    right=False                                  # make [80,90) instead of (80,90]\n",
    ")\n",
    "# Optional: make category ordered for nicer sorting/analysis\n",
    "merged[\"Category\"] = merged[\"Category\"].cat.as_ordered()\n",
    "\n",
    "# -------------------------------------------------------\n",
    "# 7) Group by Class:\n",
    "#    - Subject means\n",
    "#    - pass_rate = % of students Passed in each class\n",
    "# -------------------------------------------------------\n",
    "summary = (\n",
    "    merged.groupby(\"Class\")\n",
    "    .agg(\n",
    "        Math_mean=(\"Math\", \"mean\"),\n",
    "        Science_mean=(\"Science\", \"mean\"),\n",
    "        English_mean=(\"English\", \"mean\"),\n",
    "        Pass_rate=(\"Passed\", \"mean\")  # mean of booleans = fraction passed\n",
    "    )\n",
    "    .round(2)\n",
    ")\n",
    "# Convert pass_rate to percentage with 1 decimal\n",
    "summary[\"Pass_rate\"] = (summary[\"Pass_rate\"] * 100).round(1)\n",
    "\n",
    "# (Optional) also include how many students per class\n",
    "summary[\"Count\"] = merged.groupby(\"Class\")[\"ID\"].transform(\"count\")\n",
    "\n",
    "# -------------------------------------------------------\n",
    "# 8) Pivot table: mean Score by Class × Subject\n",
    "#    - First melt to long form (Subject, Score) then pivot.\n",
    "# -------------------------------------------------------\n",
    "long_scores = merged.melt(\n",
    "    id_vars=[\"ID\", \"Name\", \"Class\"],            # keep identifiers\n",
    "    value_vars=[\"Math\", \"Science\", \"English\"],  # unpivot these columns\n",
    "    var_name=\"Subject\",                         # becomes a new column\n",
    "    value_name=\"Score\"                          # values column\n",
    ")\n",
    "pivot = (\n",
    "    long_scores.pivot_table(\n",
    "        index=\"Class\",          # rows: Class\n",
    "        columns=\"Subject\",      # cols: Subject\n",
    "        values=\"Score\",         # values to aggregate\n",
    "        aggfunc=\"mean\"          # mean per class×subject\n",
    "    )\n",
    "    .round(2)\n",
    ")\n",
    "\n",
    "# -------------------------------------------------------\n",
    "# 9) Useful ranked view: top students by Average\n",
    "# -------------------------------------------------------\n",
    "ranked = merged.sort_values(\"Average\", ascending=False)[\n",
    "    [\"Name\", \"Class\", \"Math\", \"Science\", \"English\", \"Average\", \"Passed\", \"Category\"]\n",
    "]\n",
    "\n",
    "# -------------------------------------------------------\n",
    "# 10) Display results\n",
    "# -------------------------------------------------------\n",
    "print(\" Full merged data:\\n\", merged, \"\\n\")\n",
    "print(\" Summary by Class:\\n\", summary, \"\\n\")\n",
    "print(\" Pivot (Class × Subject mean):\\n\", pivot, \"\\n\")\n",
    "print(\" Ranked (by Average desc):\\n\", ranked)"
   ]
  },
  {
   "cell_type": "code",
   "execution_count": 99,
   "id": "c4923398",
   "metadata": {},
   "outputs": [
    {
     "name": "stdout",
     "output_type": "stream",
     "text": [
      "List: [1, 2, 4, 5, 6, 7, 8, 9, 10, 11]\n",
      "Middle slice: [4, 5, 6, 7]\n",
      "Ali scored 84 → Good\n",
      "Reza scored 91 → Excellent\n",
      "Sara scored 77 → Needs Work\n",
      "Mina scored 88 → Good\n",
      "Max: 91 | Mean: 85.0\n",
      "Grades >= 85: [91 88]\n",
      "Adjusted: [84 91 80 88]\n",
      "\n",
      "Full DataFrame:\n",
      "   Class  Name  Math  Science  English  Average   Category\n",
      "0     A   Ali    84       87       75    82.00       Good\n",
      "1     A  Reza    91       94       86    90.33  Excellent\n",
      "2     B  Sara    77       81       95    84.33       Good\n",
      "3     B  Mina    88       90       80    86.00       Good\n",
      "\n",
      "Filtered (Average >= 85):\n",
      "   Class  Name  Math  Science  English  Average   Category\n",
      "1     A  Reza    91       94       86    90.33  Excellent\n",
      "3     B  Mina    88       90       80    86.00       Good\n",
      "\n",
      "Class Averages:\n",
      "        Math  Science  English  Average\n",
      "Class                                 \n",
      "A      87.5     90.5     80.5    86.16\n",
      "B      82.5     85.5     87.5    85.16\n"
     ]
    }
   ],
   "source": [
    "del list\n",
    "# 1️⃣ List operations\n",
    "nums = list(range(1, 11))\n",
    "nums.append(11)\n",
    "nums.remove(3)\n",
    "print(\"List:\", nums)\n",
    "print(\"Middle slice:\", nums[2:6])\n",
    "\n",
    "# 2️⃣ Dictionary + Function\n",
    "grades = {\"Ali\": 84, \"Reza\": 91, \"Sara\": 77, \"Mina\": 88}\n",
    "\n",
    "def grade_status(score):\n",
    "    if score >= 90:\n",
    "        return \"Excellent\"\n",
    "    elif 80 <= score < 90:\n",
    "        return \"Good\"\n",
    "    else:\n",
    "        return \"Needs Work\"\n",
    "\n",
    "for name, score in grades.items():\n",
    "    print(f\"{name} scored {score} → {grade_status(score)}\")\n",
    "\n",
    "# 3️⃣ NumPy\n",
    "grades_np = np.array([84, 91, 77, 88])\n",
    "print(\"Max:\", grades_np.max(), \"| Mean:\", grades_np.mean())\n",
    "print(\"Grades >= 85:\", grades_np[grades_np >= 85])\n",
    "grades_np[grades_np < 80] = 80\n",
    "print(\"Adjusted:\", grades_np)\n",
    "\n",
    "# 4️⃣ Pandas\n",
    "df = pd.DataFrame({\n",
    "    \"Class\": [\"A\", \"A\", \"B\", \"B\"],\n",
    "    \"Name\": [\"Ali\", \"Reza\", \"Sara\", \"Mina\"],\n",
    "    \"Math\": [84, 91, 77, 88],\n",
    "    \"Science\": [87, 94, 81, 90],\n",
    "    \"English\": [75, 86, 95, 80]\n",
    "})\n",
    "df[\"Average\"] = df[[\"Math\", \"Science\", \"English\"]].mean(axis=1).round(2)\n",
    "df[\"Category\"] = df[\"Average\"].apply(grade_status)\n",
    "\n",
    "print(\"\\nFull DataFrame:\\n\", df)\n",
    "print(\"\\nFiltered (Average >= 85):\\n\", df[df[\"Average\"] >= 85])\n",
    "print(\"\\nClass Averages:\\n\", df.groupby(\"Class\")[[\"Math\", \"Science\", \"English\", \"Average\"]].mean().round(2))\n"
   ]
  },
  {
   "cell_type": "code",
   "execution_count": 101,
   "id": "b6d693bd",
   "metadata": {},
   "outputs": [
    {
     "data": {
      "image/png": "[encoded data removed]",
      "text/plain": [
       "<Figure size 640x480 with 1 Axes>"
      ]
     },
     "metadata": {},
     "output_type": "display_data"
    }
   ],
   "source": [
    "df = pd.DataFrame({\n",
    "    \"Name\": [\"Ali\", \"Reza\", \"Sara\", \"Mina\"],\n",
    "    \"Average\": [81.67, 90.33, 84.33, 86.0]\n",
    "})\n",
    "\n",
    "df.plot(\n",
    "    x=\"Name\", \n",
    "    y=\"Average\", \n",
    "    kind=\"bar\", \n",
    "    title=\"Average Scores per Student\"\n",
    ")\n",
    "\n",
    "plt.ylabel(\"Average Score\")\n",
    "plt.show()\n"
   ]
  },
  {
   "cell_type": "code",
   "execution_count": 114,
   "id": "25ed0749",
   "metadata": {},
   "outputs": [
    {
     "name": "stdout",
     "output_type": "stream",
     "text": [
      "  Class  Name  Math  Science  English  Average\n",
      "0     A   Ali    84       87       75    82.00\n",
      "1     A  Reza    91       94       86    90.33\n",
      "2     B  Sara    77       81       95    84.33\n",
      "3     B  Mina    88       90       80    86.00\n"
     ]
    },
    {
     "data": {
      "image/png": "[encoded data removed]",
      "text/plain": [
       "<Figure size 640x480 with 1 Axes>"
      ]
     },
     "metadata": {},
     "output_type": "display_data"
    },
    {
     "data": {
      "image/png": "[encoded data removed]",
      "text/plain": [
       "<Figure size 640x480 with 1 Axes>"
      ]
     },
     "metadata": {},
     "output_type": "display_data"
    },
    {
     "name": "stdout",
     "output_type": "stream",
     "text": [
      "Chart saved as class_avg.png\n"
     ]
    },
    {
     "data": {
      "image/png": "[encoded data removed]",
      "text/plain": [
       "<Figure size 640x480 with 1 Axes>"
      ]
     },
     "metadata": {},
     "output_type": "display_data"
    },
    {
     "data": {
      "image/png": "[encoded data removed]",
      "text/plain": [
       "<Figure size 640x480 with 1 Axes>"
      ]
     },
     "metadata": {},
     "output_type": "display_data"
    }
   ],
   "source": [
    "df = pd.DataFrame({\n",
    "    \"Class\": [\"A\", \"A\", \"B\", \"B\"],\n",
    "    \"Name\": [\"Ali\", \"Reza\", \"Sara\", \"Mina\"],\n",
    "    \"Math\": [84, 91, 77, 88],\n",
    "    \"Science\": [87, 94, 81, 90],\n",
    "    \"English\": [75, 86, 95, 80]\n",
    "})\n",
    "\n",
    "df[\"Average\"] = df[[\"Math\", \"Science\", \"English\"]].mean(axis=1).round(2)\n",
    "print(df)\n",
    "\n",
    "df.plot(\n",
    "    x = \"Name\",\n",
    "    y = \"Average\",\n",
    "    ylabel= \"Average\",\n",
    "    kind= \"bar\",\n",
    "    color= \"skyblue\",\n",
    "    title= \"Bar Chart of Names\",\n",
    "    legend=False\n",
    ")\n",
    "\n",
    "plt.ylabel(\"Average Score\")\n",
    "plt.xlabel(\"Student Name\")\n",
    "plt.tight_layout()\n",
    "plt.show()\n",
    "\n",
    "df.set_index(\"Name\")[[\"Math\", \"Science\", \"English\"]].plot(\n",
    "    kind='line',\n",
    "    marker= 'o',\n",
    "    title= \"Subject Scores Comparison\" \n",
    ")\n",
    "\n",
    "plt.ylabel(\"Score\")\n",
    "plt.xlabel(\"Student Name\")\n",
    "plt.legend(title=\"Subject\")\n",
    "plt.tight_layout()\n",
    "plt.show()\n",
    "\n",
    "class_avg = df.groupby(\"Class\")[\"Average\"].mean().round(2)\n",
    "class_avg.plot(kind='bar', color='lightgreen', title='Class Average Scores')\n",
    "\n",
    "plt.ylabel(\"Average Cost\")\n",
    "plt.xlabel(\"Class\")\n",
    "plt.tight_layout()\n",
    "plt.ylabel(\"Average\")\n",
    "\n",
    "plt.figure()\n",
    "class_avg.plot(kind='bar', color='Orange', title='Class Average Scores (saved)')\n",
    "plt.ylabel(\"Average Cost\")\n",
    "plt.xlabel(\"Class\")\n",
    "plt.tight_layout()\n",
    "plt.savefig(\"class_avg.png\")\n",
    "print(\"Chart saved as class_avg.png\")"
   ]
  },
  {
   "cell_type": "code",
   "execution_count": 175,
   "id": "2096c048",
   "metadata": {},
   "outputs": [
    {
     "data": {
      "text/html": [
       "<div>\n",
       "<style scoped>\n",
       "    .dataframe tbody tr th:only-of-type {\n",
       "        vertical-align: middle;\n",
       "    }\n",
       "\n",
       "    .dataframe tbody tr th {\n",
       "        vertical-align: top;\n",
       "    }\n",
       "\n",
       "    .dataframe thead th {\n",
       "        text-align: right;\n",
       "    }\n",
       "</style>\n",
       "<table border=\"1\" class=\"dataframe\">\n",
       "  <thead>\n",
       "    <tr style=\"text-align: right;\">\n",
       "      <th></th>\n",
       "      <th>Name</th>\n",
       "      <th>Age</th>\n",
       "      <th>Score</th>\n",
       "      <th>JoinDate</th>\n",
       "      <th>Class</th>\n",
       "    </tr>\n",
       "  </thead>\n",
       "  <tbody>\n",
       "    <tr>\n",
       "      <th>0</th>\n",
       "      <td>Ali</td>\n",
       "      <td>23</td>\n",
       "      <td>84.0</td>\n",
       "      <td>2023-02-01</td>\n",
       "      <td>a</td>\n",
       "    </tr>\n",
       "    <tr>\n",
       "      <th>1</th>\n",
       "      <td>Sara</td>\n",
       "      <td>25</td>\n",
       "      <td>NaN</td>\n",
       "      <td>2023/03/05</td>\n",
       "      <td>A</td>\n",
       "    </tr>\n",
       "    <tr>\n",
       "      <th>2</th>\n",
       "      <td>ALI</td>\n",
       "      <td>23</td>\n",
       "      <td>84.0</td>\n",
       "      <td>2023-02-01</td>\n",
       "      <td>A</td>\n",
       "    </tr>\n",
       "    <tr>\n",
       "      <th>3</th>\n",
       "      <td>None</td>\n",
       "      <td>28</td>\n",
       "      <td>91.0</td>\n",
       "      <td>None</td>\n",
       "      <td>B</td>\n",
       "    </tr>\n",
       "    <tr>\n",
       "      <th>4</th>\n",
       "      <td>Reza</td>\n",
       "      <td>None</td>\n",
       "      <td>77.0</td>\n",
       "      <td>2023-05-10</td>\n",
       "      <td>b</td>\n",
       "    </tr>\n",
       "    <tr>\n",
       "      <th>5</th>\n",
       "      <td>Mina</td>\n",
       "      <td>30</td>\n",
       "      <td>NaN</td>\n",
       "      <td>05-20-2023</td>\n",
       "      <td>B</td>\n",
       "    </tr>\n",
       "    <tr>\n",
       "      <th>6</th>\n",
       "      <td>Reza</td>\n",
       "      <td>23</td>\n",
       "      <td>77.0</td>\n",
       "      <td>2023-05-10</td>\n",
       "      <td>B</td>\n",
       "    </tr>\n",
       "  </tbody>\n",
       "</table>\n",
       "</div>"
      ],
      "text/plain": [
       "    Name   Age  Score    JoinDate Class\n",
       "0   Ali     23   84.0  2023-02-01     a\n",
       "1   Sara    25    NaN  2023/03/05     A\n",
       "2    ALI    23   84.0  2023-02-01     A\n",
       "3   None    28   91.0        None     B\n",
       "4   Reza  None   77.0  2023-05-10     b\n",
       "5   Mina   30     NaN  05-20-2023     B\n",
       "6   Reza    23   77.0  2023-05-10     B"
      ]
     },
     "execution_count": 175,
     "metadata": {},
     "output_type": "execute_result"
    }
   ],
   "source": [
    "raw = pd.DataFrame({\n",
    "    \"Name\": [\" Ali \", \"Sara\", \"ALI\", None, \"Reza\", \"Mina\", \"Reza\"],\n",
    "    \"Age\": [\"23\", \"25\", \"23\", \"28\", None, \" 30 \", \"23\"],\n",
    "    \"Score\": [84, None, 84, 91, 77, np.nan, 77],\n",
    "    \"JoinDate\": [\"2023-02-01\", \"2023/03/05\", \"2023-02-01\", None, \"2023-05-10\", \"05-20-2023\", \"2023-05-10\"],\n",
    "    \"Class\": [\"a\", \"A\", \"A\", \"B\", \"b\", \"B\", \"B\"]\n",
    "})\n",
    "raw"
   ]
  },
  {
   "cell_type": "code",
   "execution_count": null,
   "id": "29da7979",
   "metadata": {},
   "outputs": [
    {
     "name": "stdout",
     "output_type": "stream",
     "text": [
      "(7, 5)\n",
      "----------------------------------\n",
      "<class 'pandas.core.frame.DataFrame'>\n",
      "RangeIndex: 7 entries, 0 to 6\n",
      "Data columns (total 5 columns):\n",
      " #   Column    Non-Null Count  Dtype  \n",
      "---  ------    --------------  -----  \n",
      " 0   Name      6 non-null      object \n",
      " 1   Age       6 non-null      object \n",
      " 2   Score     5 non-null      float64\n",
      " 3   JoinDate  6 non-null      object \n",
      " 4   Class     7 non-null      object \n",
      "dtypes: float64(1), object(4)\n",
      "memory usage: 412.0+ bytes\n",
      "----------------------------------\n",
      "Name        1\n",
      "Age         1\n",
      "Score       2\n",
      "JoinDate    1\n",
      "Class       0\n",
      "dtype: int64\n",
      "-----------------\n",
      "0\n"
     ]
    }
   ],
   "source": [
    "print(raw.shape) # rows, cols\n",
    "print('----------------------------------')\n",
    "raw.info() # dtypes + non-null counts\n",
    "print('----------------------------------')\n",
    "print(raw.isna().sum()) # dtypes + non-null counts\n",
    "print('-----------------')\n",
    "print(raw.duplicated().sum()) # count duplicate rows"
   ]
  },
  {
   "cell_type": "code",
   "execution_count": null,
   "id": "ae72f4eb",
   "metadata": {},
   "outputs": [],
   "source": [
    "# Data Cleaning Trick for turn all Nulls or Nones to NaN and then drop them\n",
    "\n",
    "# Example raw data\n",
    "df = pd.DataFrame({\n",
    "    \"Name\": [\" Ali \", \"Sara\", \"ALI\", None, \"Reza\", \"Mina\", \"Reza\", \"\"],\n",
    "    \"Age\": [\"23\", \"25\", \"23\", \"28\", None, \" 30 \", \"23\", \"\"],\n",
    "    \"Score\": [84, None, 84, 91, 77, np.nan, 77, None],\n",
    "    \"JoinDate\": [\"2023-02-01\", \"2023/03/05\", \"2023-02-01\", None, \"2023-05-10\", \"05-20-2023\", \"2023-05-10\", \"\"]\n",
    "})\n",
    "print(\"🔹 Original:\\n\", df, \"\\n\")\n",
    "\n",
    "# -----------------------------------------------------\n",
    "# 1️⃣ Replace empty strings (\"\") with np.nan\n",
    "# -----------------------------------------------------\n",
    "df = df.replace(r'^\\s*$', np.nan, regex=True)\n",
    "\n",
    "# -----------------------------------------------------\n",
    "# 2️⃣ Strip whitespace and normalize casing (optional)\n",
    "# -----------------------------------------------------\n",
    "df[\"Name\"] = df[\"Name\"].str.strip().str.lower()\n",
    "df[\"Age\"] = df[\"Age\"].str.strip()  # still string, optional to convert\n",
    "df[\"JoinDate\"] = df[\"JoinDate\"].str.strip()\n",
    "\n",
    "# -----------------------------------------------------\n",
    "# 3️⃣ Now all None / '' / np.nan are standardized as NaN\n",
    "# -----------------------------------------------------\n",
    "print(\"🔹 After cleaning:\\n\", df, \"\\n\")\n",
    "\n",
    "# -----------------------------------------------------\n",
    "# 4️⃣ Drop rows with *any* missing values in key columns\n",
    "# -----------------------------------------------------\n",
    "cleaned = df.dropna(subset=[\"Name\", \"Age\", \"Score\", \"JoinDate\"])\n",
    "print(\"🔹 After dropna:\\n\", cleaned)\n"
   ]
  },
  {
   "cell_type": "code",
   "execution_count": 192,
   "id": "16821b13",
   "metadata": {},
   "outputs": [
    {
     "name": "stdout",
     "output_type": "stream",
     "text": [
      "    Name   Age  Score    JoinDate Class\n",
      "0   Ali     23   84.0  2023-02-01     a\n",
      "1   Sara    25    NaN  2023/03/05     A\n",
      "2    ALI    23   84.0  2023-02-01     A\n",
      "3   None    28   91.0        None     B\n",
      "4   Reza  None   77.0  2023-05-10     b\n",
      "5   Mina   30     NaN  05-20-2023     B\n",
      "6   Reza    23   77.0  2023-05-10     B\n"
     ]
    }
   ],
   "source": [
    "df1 = raw.drop_duplicates(subset=[\"Name\", \"Age\", \"Score\", \"JoinDate\"])\n",
    "# remove exact duplicates across selected key columns\n",
    "\n",
    "print(df1)"
   ]
  },
  {
   "cell_type": "code",
   "execution_count": null,
   "id": "75da99d4",
   "metadata": {},
   "outputs": [
    {
     "data": {
      "text/html": [
       "<div>\n",
       "<style scoped>\n",
       "    .dataframe tbody tr th:only-of-type {\n",
       "        vertical-align: middle;\n",
       "    }\n",
       "\n",
       "    .dataframe tbody tr th {\n",
       "        vertical-align: top;\n",
       "    }\n",
       "\n",
       "    .dataframe thead th {\n",
       "        text-align: right;\n",
       "    }\n",
       "</style>\n",
       "<table border=\"1\" class=\"dataframe\">\n",
       "  <thead>\n",
       "    <tr style=\"text-align: right;\">\n",
       "      <th></th>\n",
       "      <th>Name</th>\n",
       "      <th>Age</th>\n",
       "      <th>Score</th>\n",
       "      <th>JoinDate</th>\n",
       "      <th>Class</th>\n",
       "    </tr>\n",
       "  </thead>\n",
       "  <tbody>\n",
       "    <tr>\n",
       "      <th>0</th>\n",
       "      <td>Ali</td>\n",
       "      <td>23</td>\n",
       "      <td>84.0</td>\n",
       "      <td>2023-02-01</td>\n",
       "      <td>a</td>\n",
       "    </tr>\n",
       "    <tr>\n",
       "      <th>1</th>\n",
       "      <td>Sara</td>\n",
       "      <td>25</td>\n",
       "      <td>NaN</td>\n",
       "      <td>2023/03/05</td>\n",
       "      <td>A</td>\n",
       "    </tr>\n",
       "    <tr>\n",
       "      <th>2</th>\n",
       "      <td>ALI</td>\n",
       "      <td>23</td>\n",
       "      <td>84.0</td>\n",
       "      <td>2023-02-01</td>\n",
       "      <td>A</td>\n",
       "    </tr>\n",
       "    <tr>\n",
       "      <th>4</th>\n",
       "      <td>Reza</td>\n",
       "      <td>None</td>\n",
       "      <td>77.0</td>\n",
       "      <td>2023-05-10</td>\n",
       "      <td>b</td>\n",
       "    </tr>\n",
       "    <tr>\n",
       "      <th>5</th>\n",
       "      <td>Mina</td>\n",
       "      <td>30</td>\n",
       "      <td>NaN</td>\n",
       "      <td>05-20-2023</td>\n",
       "      <td>B</td>\n",
       "    </tr>\n",
       "    <tr>\n",
       "      <th>6</th>\n",
       "      <td>Reza</td>\n",
       "      <td>23</td>\n",
       "      <td>77.0</td>\n",
       "      <td>2023-05-10</td>\n",
       "      <td>B</td>\n",
       "    </tr>\n",
       "  </tbody>\n",
       "</table>\n",
       "</div>"
      ],
      "text/plain": [
       "    Name   Age  Score    JoinDate Class\n",
       "0   Ali     23   84.0  2023-02-01     a\n",
       "1   Sara    25    NaN  2023/03/05     A\n",
       "2    ALI    23   84.0  2023-02-01     A\n",
       "4   Reza  None   77.0  2023-05-10     b\n",
       "5   Mina   30     NaN  05-20-2023     B\n",
       "6   Reza    23   77.0  2023-05-10     B"
      ]
     },
     "execution_count": 194,
     "metadata": {},
     "output_type": "execute_result"
    }
   ],
   "source": [
    "# drop rows where Name is missing (required field)\n",
    "df1 = df1.dropna(subset=\"Name\")\n",
    "df1"
   ]
  },
  {
   "cell_type": "code",
   "execution_count": 208,
   "id": "71fc727f",
   "metadata": {},
   "outputs": [
    {
     "data": {
      "text/html": [
       "<div>\n",
       "<style scoped>\n",
       "    .dataframe tbody tr th:only-of-type {\n",
       "        vertical-align: middle;\n",
       "    }\n",
       "\n",
       "    .dataframe tbody tr th {\n",
       "        vertical-align: top;\n",
       "    }\n",
       "\n",
       "    .dataframe thead th {\n",
       "        text-align: right;\n",
       "    }\n",
       "</style>\n",
       "<table border=\"1\" class=\"dataframe\">\n",
       "  <thead>\n",
       "    <tr style=\"text-align: right;\">\n",
       "      <th></th>\n",
       "      <th>Name</th>\n",
       "      <th>Age</th>\n",
       "      <th>Score</th>\n",
       "      <th>JoinDate</th>\n",
       "      <th>Class</th>\n",
       "    </tr>\n",
       "  </thead>\n",
       "  <tbody>\n",
       "    <tr>\n",
       "      <th>0</th>\n",
       "      <td>Ali</td>\n",
       "      <td>23</td>\n",
       "      <td>84.0</td>\n",
       "      <td>2023-02-01</td>\n",
       "      <td>a</td>\n",
       "    </tr>\n",
       "    <tr>\n",
       "      <th>1</th>\n",
       "      <td>Sara</td>\n",
       "      <td>25</td>\n",
       "      <td>80.5</td>\n",
       "      <td>2023/03/05</td>\n",
       "      <td>A</td>\n",
       "    </tr>\n",
       "    <tr>\n",
       "      <th>2</th>\n",
       "      <td>ALI</td>\n",
       "      <td>23</td>\n",
       "      <td>84.0</td>\n",
       "      <td>2023-02-01</td>\n",
       "      <td>A</td>\n",
       "    </tr>\n",
       "    <tr>\n",
       "      <th>4</th>\n",
       "      <td>Reza</td>\n",
       "      <td>23</td>\n",
       "      <td>77.0</td>\n",
       "      <td>2023-05-10</td>\n",
       "      <td>b</td>\n",
       "    </tr>\n",
       "    <tr>\n",
       "      <th>5</th>\n",
       "      <td>Mina</td>\n",
       "      <td>30</td>\n",
       "      <td>80.5</td>\n",
       "      <td>05-20-2023</td>\n",
       "      <td>B</td>\n",
       "    </tr>\n",
       "    <tr>\n",
       "      <th>6</th>\n",
       "      <td>Reza</td>\n",
       "      <td>23</td>\n",
       "      <td>77.0</td>\n",
       "      <td>2023-05-10</td>\n",
       "      <td>B</td>\n",
       "    </tr>\n",
       "  </tbody>\n",
       "</table>\n",
       "</div>"
      ],
      "text/plain": [
       "    Name  Age  Score    JoinDate Class\n",
       "0   Ali    23   84.0  2023-02-01     a\n",
       "1   Sara   25   80.5  2023/03/05     A\n",
       "2    ALI   23   84.0  2023-02-01     A\n",
       "4   Reza   23   77.0  2023-05-10     b\n",
       "5   Mina   30   80.5  05-20-2023     B\n",
       "6   Reza   23   77.0  2023-05-10     B"
      ]
     },
     "execution_count": 208,
     "metadata": {},
     "output_type": "execute_result"
    }
   ],
   "source": [
    "# fill missing Score with mean (rounded)\n",
    "mean_score = df1[\"Score\"].mean()\n",
    "df1[\"Score\"] = df1[\"Score\"].fillna(round(mean_score, 2))\n",
    "\n",
    "# convert Age to numeric; coerce bad strings to NaN\n",
    "df1[\"Age\"] = pd.to_numeric(df1[\"Age\"], errors=\"coerce\")\n",
    "\n",
    "# fill any Age NaN with median, then cast to nullable integer\n",
    "median_age = df1[\"Age\"].median()\n",
    "df1[\"Age\"] = df1[\"Age\"].fillna(median_age).astype(\"Int64\")\n",
    "df1"
   ]
  },
  {
   "cell_type": "code",
   "execution_count": 209,
   "id": "536a3c93",
   "metadata": {},
   "outputs": [
    {
     "name": "stderr",
     "output_type": "stream",
     "text": [
      "C:\\Users\\Pooria\\AppData\\Local\\Temp\\ipykernel_24660\\3796861691.py:1: UserWarning: The argument 'infer_datetime_format' is deprecated and will be removed in a future version. A strict version of it is now the default, see https://pandas.pydata.org/pdeps/0004-consistent-to-datetime-parsing.html. You can safely remove this argument.\n",
      "  df1[\"JoinDate\"] = pd.to_datetime(\n"
     ]
    },
    {
     "data": {
      "text/html": [
       "<div>\n",
       "<style scoped>\n",
       "    .dataframe tbody tr th:only-of-type {\n",
       "        vertical-align: middle;\n",
       "    }\n",
       "\n",
       "    .dataframe tbody tr th {\n",
       "        vertical-align: top;\n",
       "    }\n",
       "\n",
       "    .dataframe thead th {\n",
       "        text-align: right;\n",
       "    }\n",
       "</style>\n",
       "<table border=\"1\" class=\"dataframe\">\n",
       "  <thead>\n",
       "    <tr style=\"text-align: right;\">\n",
       "      <th></th>\n",
       "      <th>Name</th>\n",
       "      <th>Age</th>\n",
       "      <th>Score</th>\n",
       "      <th>JoinDate</th>\n",
       "      <th>Class</th>\n",
       "    </tr>\n",
       "  </thead>\n",
       "  <tbody>\n",
       "    <tr>\n",
       "      <th>0</th>\n",
       "      <td>Ali</td>\n",
       "      <td>23</td>\n",
       "      <td>84.0</td>\n",
       "      <td>2023-02-01</td>\n",
       "      <td>a</td>\n",
       "    </tr>\n",
       "    <tr>\n",
       "      <th>1</th>\n",
       "      <td>Sara</td>\n",
       "      <td>25</td>\n",
       "      <td>80.5</td>\n",
       "      <td>NaT</td>\n",
       "      <td>A</td>\n",
       "    </tr>\n",
       "    <tr>\n",
       "      <th>2</th>\n",
       "      <td>ALI</td>\n",
       "      <td>23</td>\n",
       "      <td>84.0</td>\n",
       "      <td>2023-02-01</td>\n",
       "      <td>A</td>\n",
       "    </tr>\n",
       "    <tr>\n",
       "      <th>4</th>\n",
       "      <td>Reza</td>\n",
       "      <td>23</td>\n",
       "      <td>77.0</td>\n",
       "      <td>2023-05-10</td>\n",
       "      <td>b</td>\n",
       "    </tr>\n",
       "    <tr>\n",
       "      <th>5</th>\n",
       "      <td>Mina</td>\n",
       "      <td>30</td>\n",
       "      <td>80.5</td>\n",
       "      <td>NaT</td>\n",
       "      <td>B</td>\n",
       "    </tr>\n",
       "    <tr>\n",
       "      <th>6</th>\n",
       "      <td>Reza</td>\n",
       "      <td>23</td>\n",
       "      <td>77.0</td>\n",
       "      <td>2023-05-10</td>\n",
       "      <td>B</td>\n",
       "    </tr>\n",
       "  </tbody>\n",
       "</table>\n",
       "</div>"
      ],
      "text/plain": [
       "    Name  Age  Score   JoinDate Class\n",
       "0   Ali    23   84.0 2023-02-01     a\n",
       "1   Sara   25   80.5        NaT     A\n",
       "2    ALI   23   84.0 2023-02-01     A\n",
       "4   Reza   23   77.0 2023-05-10     b\n",
       "5   Mina   30   80.5        NaT     B\n",
       "6   Reza   23   77.0 2023-05-10     B"
      ]
     },
     "execution_count": 209,
     "metadata": {},
     "output_type": "execute_result"
    }
   ],
   "source": [
    "df1[\"JoinDate\"] = pd.to_datetime(\n",
    "    df1[\"JoinDate\"], errors=\"coerce\", infer_datetime_format=True\n",
    ")\n",
    "df1"
   ]
  },
  {
   "cell_type": "code",
   "execution_count": 210,
   "id": "077c27e1",
   "metadata": {},
   "outputs": [
    {
     "data": {
      "text/html": [
       "<div>\n",
       "<style scoped>\n",
       "    .dataframe tbody tr th:only-of-type {\n",
       "        vertical-align: middle;\n",
       "    }\n",
       "\n",
       "    .dataframe tbody tr th {\n",
       "        vertical-align: top;\n",
       "    }\n",
       "\n",
       "    .dataframe thead th {\n",
       "        text-align: right;\n",
       "    }\n",
       "</style>\n",
       "<table border=\"1\" class=\"dataframe\">\n",
       "  <thead>\n",
       "    <tr style=\"text-align: right;\">\n",
       "      <th></th>\n",
       "      <th>Name</th>\n",
       "      <th>Age</th>\n",
       "      <th>Score</th>\n",
       "      <th>JoinDate</th>\n",
       "      <th>Class</th>\n",
       "    </tr>\n",
       "  </thead>\n",
       "  <tbody>\n",
       "    <tr>\n",
       "      <th>0</th>\n",
       "      <td>Ali</td>\n",
       "      <td>23</td>\n",
       "      <td>84.0</td>\n",
       "      <td>2023-02-01</td>\n",
       "      <td>A</td>\n",
       "    </tr>\n",
       "    <tr>\n",
       "      <th>1</th>\n",
       "      <td>Sara</td>\n",
       "      <td>25</td>\n",
       "      <td>80.5</td>\n",
       "      <td>NaT</td>\n",
       "      <td>A</td>\n",
       "    </tr>\n",
       "    <tr>\n",
       "      <th>2</th>\n",
       "      <td>Ali</td>\n",
       "      <td>23</td>\n",
       "      <td>84.0</td>\n",
       "      <td>2023-02-01</td>\n",
       "      <td>A</td>\n",
       "    </tr>\n",
       "    <tr>\n",
       "      <th>4</th>\n",
       "      <td>Reza</td>\n",
       "      <td>23</td>\n",
       "      <td>77.0</td>\n",
       "      <td>2023-05-10</td>\n",
       "      <td>B</td>\n",
       "    </tr>\n",
       "    <tr>\n",
       "      <th>5</th>\n",
       "      <td>Mina</td>\n",
       "      <td>30</td>\n",
       "      <td>80.5</td>\n",
       "      <td>NaT</td>\n",
       "      <td>B</td>\n",
       "    </tr>\n",
       "    <tr>\n",
       "      <th>6</th>\n",
       "      <td>Reza</td>\n",
       "      <td>23</td>\n",
       "      <td>77.0</td>\n",
       "      <td>2023-05-10</td>\n",
       "      <td>B</td>\n",
       "    </tr>\n",
       "  </tbody>\n",
       "</table>\n",
       "</div>"
      ],
      "text/plain": [
       "   Name  Age  Score   JoinDate Class\n",
       "0   Ali   23   84.0 2023-02-01     A\n",
       "1  Sara   25   80.5        NaT     A\n",
       "2   Ali   23   84.0 2023-02-01     A\n",
       "4  Reza   23   77.0 2023-05-10     B\n",
       "5  Mina   30   80.5        NaT     B\n",
       "6  Reza   23   77.0 2023-05-10     B"
      ]
     },
     "execution_count": 210,
     "metadata": {},
     "output_type": "execute_result"
    }
   ],
   "source": [
    "# strip spaces and standardize casing\n",
    "df1[\"Name\"]  = df1[\"Name\"].str.strip().str.title()   # \" Ali \" → \"Ali\", \"ALI\" → \"Ali\"\n",
    "df1[\"Class\"] = df1[\"Class\"].str.upper()              # 'a' → 'A'\n",
    "df1"
   ]
  },
  {
   "cell_type": "code",
   "execution_count": 214,
   "id": "b61cdb9d",
   "metadata": {},
   "outputs": [],
   "source": [
    "df1[\"JoinYear\"]  = df1[\"JoinDate\"].dt.year\n",
    "df1[\"JoinMonth\"] = df1[\"JoinDate\"].dt.month"
   ]
  },
  {
   "cell_type": "code",
   "execution_count": 218,
   "id": "9651268a",
   "metadata": {},
   "outputs": [
    {
     "name": "stdout",
     "output_type": "stream",
     "text": [
      "\n",
      "=== CLEANED ===\n",
      "   Name  Age  Score   JoinDate Class  JoinYear  JoinMonth\n",
      "0   Ali   23   84.0 2023-02-01     A    2023.0        2.0\n",
      "1  Sara   25   80.5        NaT     A       NaN        NaN\n",
      "2   Ali   23   84.0 2023-02-01     A    2023.0        2.0\n",
      "4  Reza   23   77.0 2023-05-10     B    2023.0        5.0\n",
      "5  Mina   30   80.5        NaT     B       NaN        NaN\n",
      "6  Reza   23   77.0 2023-05-10     B    2023.0        5.0\n",
      "\n",
      "shape: (6, 7)\n",
      "\n",
      "info():\n",
      "\n",
      "missing per column:\n",
      " Name         0\n",
      "Age          0\n",
      "Score        0\n",
      "JoinDate     2\n",
      "Class        0\n",
      "JoinYear     2\n",
      "JoinMonth    2\n",
      "dtype: int64\n",
      "\n",
      "Unique Name/Class pairs:\n",
      "    Name Class\n",
      "0   Ali     A\n",
      "1  Sara     A\n",
      "5  Mina     B\n",
      "4  Reza     B\n"
     ]
    },
    {
     "data": {
      "text/html": [
       "<div>\n",
       "<style scoped>\n",
       "    .dataframe tbody tr th:only-of-type {\n",
       "        vertical-align: middle;\n",
       "    }\n",
       "\n",
       "    .dataframe tbody tr th {\n",
       "        vertical-align: top;\n",
       "    }\n",
       "\n",
       "    .dataframe thead th {\n",
       "        text-align: right;\n",
       "    }\n",
       "</style>\n",
       "<table border=\"1\" class=\"dataframe\">\n",
       "  <thead>\n",
       "    <tr style=\"text-align: right;\">\n",
       "      <th></th>\n",
       "      <th>Name</th>\n",
       "      <th>Age</th>\n",
       "      <th>Score</th>\n",
       "      <th>JoinDate</th>\n",
       "      <th>Class</th>\n",
       "      <th>JoinYear</th>\n",
       "      <th>JoinMonth</th>\n",
       "    </tr>\n",
       "  </thead>\n",
       "  <tbody>\n",
       "    <tr>\n",
       "      <th>0</th>\n",
       "      <td>Ali</td>\n",
       "      <td>23</td>\n",
       "      <td>84.0</td>\n",
       "      <td>2023-02-01</td>\n",
       "      <td>A</td>\n",
       "      <td>2023.0</td>\n",
       "      <td>2.0</td>\n",
       "    </tr>\n",
       "    <tr>\n",
       "      <th>1</th>\n",
       "      <td>Sara</td>\n",
       "      <td>25</td>\n",
       "      <td>80.5</td>\n",
       "      <td>NaT</td>\n",
       "      <td>A</td>\n",
       "      <td>NaN</td>\n",
       "      <td>NaN</td>\n",
       "    </tr>\n",
       "    <tr>\n",
       "      <th>2</th>\n",
       "      <td>Ali</td>\n",
       "      <td>23</td>\n",
       "      <td>84.0</td>\n",
       "      <td>2023-02-01</td>\n",
       "      <td>A</td>\n",
       "      <td>2023.0</td>\n",
       "      <td>2.0</td>\n",
       "    </tr>\n",
       "    <tr>\n",
       "      <th>4</th>\n",
       "      <td>Reza</td>\n",
       "      <td>23</td>\n",
       "      <td>77.0</td>\n",
       "      <td>2023-05-10</td>\n",
       "      <td>B</td>\n",
       "      <td>2023.0</td>\n",
       "      <td>5.0</td>\n",
       "    </tr>\n",
       "    <tr>\n",
       "      <th>5</th>\n",
       "      <td>Mina</td>\n",
       "      <td>30</td>\n",
       "      <td>80.5</td>\n",
       "      <td>NaT</td>\n",
       "      <td>B</td>\n",
       "      <td>NaN</td>\n",
       "      <td>NaN</td>\n",
       "    </tr>\n",
       "    <tr>\n",
       "      <th>6</th>\n",
       "      <td>Reza</td>\n",
       "      <td>23</td>\n",
       "      <td>77.0</td>\n",
       "      <td>2023-05-10</td>\n",
       "      <td>B</td>\n",
       "      <td>2023.0</td>\n",
       "      <td>5.0</td>\n",
       "    </tr>\n",
       "  </tbody>\n",
       "</table>\n",
       "</div>"
      ],
      "text/plain": [
       "   Name  Age  Score   JoinDate Class  JoinYear  JoinMonth\n",
       "0   Ali   23   84.0 2023-02-01     A    2023.0        2.0\n",
       "1  Sara   25   80.5        NaT     A       NaN        NaN\n",
       "2   Ali   23   84.0 2023-02-01     A    2023.0        2.0\n",
       "4  Reza   23   77.0 2023-05-10     B    2023.0        5.0\n",
       "5  Mina   30   80.5        NaT     B       NaN        NaN\n",
       "6  Reza   23   77.0 2023-05-10     B    2023.0        5.0"
      ]
     },
     "execution_count": 218,
     "metadata": {},
     "output_type": "execute_result"
    }
   ],
   "source": [
    "print(\"\\n=== CLEANED ===\")\n",
    "print(df1)\n",
    "print(\"\\nshape:\", df1.shape)\n",
    "print(\"\\ninfo():\")\n",
    "print(\"\\nmissing per column:\\n\", df1.isna().sum())\n",
    "print(\"\\nUnique Name/Class pairs:\\n\", df1[[\"Name\",\"Class\"]].drop_duplicates().sort_values([\"Class\",\"Name\"]))\n",
    "df1"
   ]
  },
  {
   "cell_type": "code",
   "execution_count": 219,
   "id": "a746426e",
   "metadata": {},
   "outputs": [
    {
     "name": "stdout",
     "output_type": "stream",
     "text": [
      "=== RAW ===\n",
      "    Name   Age  Score    JoinDate Class\n",
      "0   Ali     23   84.0  2023-02-01     a\n",
      "1   Sara    25    NaN  2023/03/05     A\n",
      "2    ALI    23   84.0  2023-02-01     A\n",
      "3   None    28   91.0        None     B\n",
      "4   Reza  None   77.0  2023-05-10     b\n",
      "5   Mina   30     NaN  05-20-2023     B\n",
      "6   Reza    23   77.0  2023-05-10     B\n",
      "\n",
      "shape: (7, 5)\n",
      "\n",
      "info():\n",
      "<class 'pandas.core.frame.DataFrame'>\n",
      "RangeIndex: 7 entries, 0 to 6\n",
      "Data columns (total 5 columns):\n",
      " #   Column    Non-Null Count  Dtype  \n",
      "---  ------    --------------  -----  \n",
      " 0   Name      6 non-null      object \n",
      " 1   Age       6 non-null      object \n",
      " 2   Score     5 non-null      float64\n",
      " 3   JoinDate  6 non-null      object \n",
      " 4   Class     7 non-null      object \n",
      "dtypes: float64(1), object(4)\n",
      "memory usage: 412.0+ bytes\n",
      "None\n",
      "\n",
      "missing per column:\n",
      " Name        1\n",
      "Age         1\n",
      "Score       2\n",
      "JoinDate    1\n",
      "Class       0\n",
      "dtype: int64\n",
      "duplicate rows: 0\n",
      "\n",
      "=== CLEANED ===\n",
      "   Name  Age  Score   JoinDate Class  JoinYear  JoinMonth\n",
      "0   Ali   23   84.0 2023-02-01     A    2023.0        2.0\n",
      "1  Sara   25   80.5        NaT     A       NaN        NaN\n",
      "2   Ali   23   84.0 2023-02-01     A    2023.0        2.0\n",
      "4  Reza   23   77.0 2023-05-10     B    2023.0        5.0\n",
      "5  Mina   30   80.5        NaT     B       NaN        NaN\n",
      "6  Reza   23   77.0 2023-05-10     B    2023.0        5.0\n",
      "\n",
      "shape: (6, 7)\n",
      "\n",
      "info():\n",
      "<class 'pandas.core.frame.DataFrame'>\n",
      "Index: 6 entries, 0 to 6\n",
      "Data columns (total 7 columns):\n",
      " #   Column     Non-Null Count  Dtype         \n",
      "---  ------     --------------  -----         \n",
      " 0   Name       6 non-null      object        \n",
      " 1   Age        6 non-null      Int64         \n",
      " 2   Score      6 non-null      float64       \n",
      " 3   JoinDate   4 non-null      datetime64[ns]\n",
      " 4   Class      6 non-null      object        \n",
      " 5   JoinYear   4 non-null      float64       \n",
      " 6   JoinMonth  4 non-null      float64       \n",
      "dtypes: Int64(1), datetime64[ns](1), float64(3), object(2)\n",
      "memory usage: 390.0+ bytes\n",
      "None\n",
      "\n",
      "missing per column:\n",
      " Name         0\n",
      "Age          0\n",
      "Score        0\n",
      "JoinDate     2\n",
      "Class        0\n",
      "JoinYear     2\n",
      "JoinMonth    2\n",
      "dtype: int64\n",
      "\n",
      "Unique Name/Class pairs:\n",
      "    Name Class\n",
      "0   Ali     A\n",
      "1  Sara     A\n",
      "5  Mina     B\n",
      "4  Reza     B\n"
     ]
    },
    {
     "name": "stderr",
     "output_type": "stream",
     "text": [
      "C:\\Users\\Pooria\\AppData\\Local\\Temp\\ipykernel_24660\\4261497628.py:35: UserWarning: The argument 'infer_datetime_format' is deprecated and will be removed in a future version. A strict version of it is now the default, see https://pandas.pydata.org/pdeps/0004-consistent-to-datetime-parsing.html. You can safely remove this argument.\n",
      "  df1[\"JoinDate\"] = pd.to_datetime(df1[\"JoinDate\"], errors=\"coerce\", infer_datetime_format=True)\n"
     ]
    }
   ],
   "source": [
    "# ----------------------- raw (messy) -----------------------\n",
    "raw = pd.DataFrame({\n",
    "    \"Name\": [\" Ali \", \"Sara\", \"ALI\", None, \"Reza\", \"Mina\", \"Reza\"],\n",
    "    \"Age\": [\"23\", \"25\", \"23\", \"28\", None, \" 30 \", \"23\"],\n",
    "    \"Score\": [84, None, 84, 91, 77, np.nan, 77],\n",
    "    \"JoinDate\": [\"2023-02-01\", \"2023/03/05\", \"2023-02-01\", None, \"2023-05-10\", \"05-20-2023\", \"2023-05-10\"],\n",
    "    \"Class\": [\"a\", \"A\", \"A\", \"B\", \"b\", \"B\", \"B\"]\n",
    "})\n",
    "\n",
    "print(\"=== RAW ===\")\n",
    "print(raw)\n",
    "print(\"\\nshape:\", raw.shape)\n",
    "print(\"\\ninfo():\")\n",
    "print(raw.info())\n",
    "print(\"\\nmissing per column:\\n\", raw.isna().sum())\n",
    "print(\"duplicate rows:\", raw.duplicated().sum())\n",
    "\n",
    "# ----------------------- cleaning -----------------------\n",
    "# 1) remove duplicates by keys\n",
    "df1 = raw.drop_duplicates(subset=[\"Name\", \"Age\", \"Score\", \"JoinDate\"])\n",
    "\n",
    "# 2) drop rows with critical missing values (Name)\n",
    "df1 = df1.dropna(subset=[\"Name\"])\n",
    "\n",
    "# 3) fill numeric missing: Score → mean\n",
    "mean_score = df1[\"Score\"].mean()\n",
    "df1[\"Score\"] = df1[\"Score\"].fillna(round(mean_score, 2))\n",
    "\n",
    "# 4) fix types: Age → numeric, fill median, cast to Int64\n",
    "df1[\"Age\"] = pd.to_numeric(df1[\"Age\"], errors=\"coerce\")\n",
    "median_age = df1[\"Age\"].median()\n",
    "df1[\"Age\"] = df1[\"Age\"].fillna(median_age).astype(\"Int64\")\n",
    "\n",
    "# 5) dates: JoinDate → datetime\n",
    "df1[\"JoinDate\"] = pd.to_datetime(df1[\"JoinDate\"], errors=\"coerce\", infer_datetime_format=True)\n",
    "\n",
    "# 6) text normalization\n",
    "df1[\"Name\"]  = df1[\"Name\"].str.strip().str.title()\n",
    "df1[\"Class\"] = df1[\"Class\"].str.upper()\n",
    "\n",
    "# 7) features from dates\n",
    "df1[\"JoinYear\"]  = df1[\"JoinDate\"].dt.year\n",
    "df1[\"JoinMonth\"] = df1[\"JoinDate\"].dt.month\n",
    "\n",
    "# ----------------------- result -----------------------\n",
    "print(\"\\n=== CLEANED ===\")\n",
    "print(df1)\n",
    "print(\"\\nshape:\", df1.shape)\n",
    "print(\"\\ninfo():\")\n",
    "print(df1.info())\n",
    "print(\"\\nmissing per column:\\n\", df1.isna().sum())\n",
    "print(\"\\nUnique Name/Class pairs:\\n\", df1[[\"Name\",\"Class\"]].drop_duplicates().sort_values([\"Class\",\"Name\"]))\n"
   ]
  },
  {
   "cell_type": "code",
   "execution_count": 220,
   "id": "37c7a2b4",
   "metadata": {},
   "outputs": [
    {
     "name": "stdout",
     "output_type": "stream",
     "text": [
      "RAW DATA\n",
      "    Name   Age  Score    JoinDate Class\n",
      "0   Ali     23   84.0  2023-02-01     a\n",
      "1   Sara    25    NaN  2023/03/05     A\n",
      "2    ALI    23   84.0  2023-02-01     A\n",
      "3   None    28   91.0        None     B\n",
      "4   Reza  None   77.0  2023-05-10     b\n",
      "5   Mina   30     NaN  05-20-2023     B\n",
      "6   Reza    23   77.0  2023-05-10     B\n",
      "CLEANED DATA\n",
      "   Name  Age  Score   JoinDate Class  JoinYear  JoinMonth\n",
      "0   Ali   23   84.0 2023-02-01     A    2023.0        2.0\n",
      "1  Sara   25   80.5        NaT     A       NaN        NaN\n",
      "2   Ali   23   84.0 2023-02-01     A    2023.0        2.0\n",
      "4  Reza   23   77.0 2023-05-10     B    2023.0        5.0\n",
      "5  Mina   30   80.5        NaT     B       NaN        NaN\n",
      "6  Reza   23   77.0 2023-05-10     B    2023.0        5.0\n",
      "SHAPE: (6, 7)\n",
      "DATA TYPES:\n",
      "Name                 object\n",
      "Age                   Int64\n",
      "Score               float64\n",
      "JoinDate     datetime64[ns]\n",
      "Class                object\n",
      "JoinYear            float64\n",
      "JoinMonth           float64\n",
      "dtype: object\n",
      "MISSING VALUES:\n",
      "Name         0\n",
      "Age          0\n",
      "Score        0\n",
      "JoinDate     2\n",
      "Class        0\n",
      "JoinYear     2\n",
      "JoinMonth    2\n",
      "dtype: int64\n"
     ]
    },
    {
     "name": "stderr",
     "output_type": "stream",
     "text": [
      "C:\\Users\\Pooria\\AppData\\Local\\Temp\\ipykernel_24660\\957073307.py:22: UserWarning: The argument 'infer_datetime_format' is deprecated and will be removed in a future version. A strict version of it is now the default, see https://pandas.pydata.org/pdeps/0004-consistent-to-datetime-parsing.html. You can safely remove this argument.\n",
      "  df1[\"JoinDate\"] = pd.to_datetime(df1[\"JoinDate\"], errors=\"coerce\", infer_datetime_format=True)\n"
     ]
    }
   ],
   "source": [
    "raw = pd.DataFrame({\n",
    "    \"Name\": [\" Ali \", \"Sara\", \"ALI\", None, \"Reza\", \"Mina\", \"Reza\"],\n",
    "    \"Age\": [\"23\", \"25\", \"23\", \"28\", None, \" 30 \", \"23\"],\n",
    "    \"Score\": [84, None, 84, 91, 77, np.nan, 77],\n",
    "    \"JoinDate\": [\"2023-02-01\", \"2023/03/05\", \"2023-02-01\", None, \"2023-05-10\", \"05-20-2023\", \"2023-05-10\"],\n",
    "    \"Class\": [\"a\", \"A\", \"A\", \"B\", \"b\", \"B\", \"B\"]\n",
    "})\n",
    "\n",
    "print(\"RAW DATA\")\n",
    "print(raw)\n",
    "\n",
    "df1 = raw.drop_duplicates(subset=[\"Name\", \"Age\", \"Score\", \"JoinDate\"])\n",
    "df1 = df1.dropna(subset=[\"Name\"])\n",
    "\n",
    "mean_score = df1[\"Score\"].mean()\n",
    "df1[\"Score\"] = df1[\"Score\"].fillna(round(mean_score, 2))\n",
    "\n",
    "df1[\"Age\"] = pd.to_numeric(df1[\"Age\"], errors=\"coerce\")\n",
    "median_age = df1[\"Age\"].median()\n",
    "df1[\"Age\"] = df1[\"Age\"].fillna(median_age).astype(\"Int64\")\n",
    "\n",
    "df1[\"JoinDate\"] = pd.to_datetime(df1[\"JoinDate\"], errors=\"coerce\", infer_datetime_format=True)\n",
    "\n",
    "df1[\"Name\"] = df1[\"Name\"].str.strip().str.title()\n",
    "df1[\"Class\"] = df1[\"Class\"].str.upper()\n",
    "\n",
    "df1[\"JoinYear\"] = df1[\"JoinDate\"].dt.year\n",
    "df1[\"JoinMonth\"] = df1[\"JoinDate\"].dt.month\n",
    "\n",
    "print(\"CLEANED DATA\")\n",
    "print(df1)\n",
    "print(\"SHAPE:\", df1.shape)\n",
    "print(\"DATA TYPES:\")\n",
    "print(df1.dtypes)\n",
    "print(\"MISSING VALUES:\")\n",
    "print(df1.isna().sum())\n"
   ]
  },
  {
   "cell_type": "code",
   "execution_count": null,
   "id": "772bcaaf",
   "metadata": {},
   "outputs": [],
   "source": []
  }
 ],
 "metadata": {
  "kernelspec": {
   "display_name": "Python 3",
   "language": "python",
   "name": "python3"
  },
  "language_info": {
   "codemirror_mode": {
    "name": "ipython",
    "version": 3
   },
   "file_extension": ".py",
   "mimetype": "text/x-python",
   "name": "python",
   "nbconvert_exporter": "python",
   "pygments_lexer": "ipython3",
   "version": "3.12.1"
  }
 },
 "nbformat": 4,
 "nbformat_minor": 5
}
